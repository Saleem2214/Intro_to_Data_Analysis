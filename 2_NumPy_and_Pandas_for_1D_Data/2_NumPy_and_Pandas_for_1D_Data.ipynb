{
 "cells": [
  {
   "cell_type": "code",
   "execution_count": 1,
   "id": "22df2389-9342-4c47-8b6c-8168c95752e6",
   "metadata": {},
   "outputs": [],
   "source": [
    "# Saleem Saif 00/03/2025\n",
    "# Part 2/3 2_NumPy_and_Pandas_for_1D_Data\n",
    "\n",
    "# ما هي Pandas\n",
    "# في برمجة الكمبيوتر, الباندا هي مكتبة برمجية مطورة بلغة البرمجة بايثون لمعالجة البيانات وتحليلها. وبالتحديد فهي تقدم هياكل بيانات وعمليات التلاعب بالجداول رقمية و السلاسل الزمنية. وهي برمجية حرة صدرت تحت ترخيص BSD. الاسم مشتق من مصطلح \"لوحة البيانات\"، مصطلح الاقتصاد القياسي  مجموعات البيانات التي تتضمن الملاحظات على مدى فترات زمنية متعددة لنفس الأفراد.\n",
    "\n",
    "# Pandas-practise\n",
    "# This notebook will contain code to practise Pandas as done in Lesson 02 of the course"
   ]
  },
  {
   "cell_type": "code",
   "execution_count": null,
   "id": "ea3b473a-d9e6-474f-b9b5-b90012bee7cc",
   "metadata": {},
   "outputs": [],
   "source": [
    "# Install dependencies here\n",
    "    # !pip install pandas\n",
    "    # !pip install numpy\n",
    "    # !pip install matplotlib\n",
    "    # !pip install plotly\n",
    "    # !pip install seaborn"
   ]
  },
  {
   "cell_type": "code",
   "execution_count": 2,
   "id": "fc52d762-c588-4b60-a2bd-fc5a7f27eb05",
   "metadata": {},
   "outputs": [],
   "source": [
    "# Load Data from CSVs\n",
    "    # 1. employment_above_15.csv\n",
    "    # 2. life_expectancy.csv\n",
    "    # 3. gdp_per_capita.csv\n",
    "    # 4. male_completion_rate.csv\n",
    "    # 5. female_completion_rate.csv"
   ]
  },
  {
   "cell_type": "code",
   "execution_count": null,
   "id": "00ee9500-2204-49d9-9f92-fd9113a29f28",
   "metadata": {},
   "outputs": [],
   "source": [
    "# 2.01 Introduction 2 (مقدمة 2)\n",
    "\n",
    "# الفيديو يقدم مقدمة لدورة \"مقدمة في تحليل البيانات\". تشرح المدربة أن محلل البيانات يستخدم البيانات للإجابة على أسئلة متنوعة. سيتعلم الطلاب كيفية تحليل البيانات باستخدام مكتبات مثل NumPy وPandas وMatplotlib، مع التركيز على استخدام بايثون. لا يتطلب الأمر خبرة سابقة في تحليل البيانات، لكن يجب أن يكون الطلاب مرتاحين مع مفاهيم بايثون الأساسية مثل الحلقات والدوال والقوائم."
   ]
  },
  {
   "cell_type": "code",
   "execution_count": 59,
   "id": "232cb204-6a67-4a00-a053-a168294e6019",
   "metadata": {},
   "outputs": [],
   "source": [
    "# 2.01 Gapminder Data (بيانات جابميندر) (1)\n",
    "    # Employment Levels\n",
    "    # Life Expectancy\n",
    "    # GDP\n",
    "    # School Completan Rates\n",
    "\n",
    "import pandas as pd\n",
    "Aged_Employment = pd.read_csv('employment_above_15.csv')\n",
    "Life_Expectancy = pd.read_csv('life_expectancy.csv')\n",
    "GDP_capita = pd.read_csv('life_expectancy.csv')\n",
    "Primary_school_completion_of_boys = pd.read_csv('male_completion_rate.csv')\n",
    "Primary_school_completion_of_girls = pd.read_csv('female_completion_rate.csv')"
   ]
  },
  {
   "cell_type": "code",
   "execution_count": 57,
   "id": "fb63aaf8-0283-4404-bc4f-3c3864e01c00",
   "metadata": {},
   "outputs": [
    {
     "data": {
      "text/plain": [
       "178"
      ]
     },
     "execution_count": 57,
     "metadata": {},
     "output_type": "execute_result"
    }
   ],
   "source": [
    "len(Aged_Employment['Country'])"
   ]
  },
  {
   "cell_type": "code",
   "execution_count": 69,
   "id": "dc0d5858-5a93-4ec9-a348-5c7e2af4ad7b",
   "metadata": {},
   "outputs": [],
   "source": [
    "# 2.03 One-Dimensional Data in NumPy and Pandas (مقارنة المكتبتين) (1)\n",
    "# NumPy\n",
    "\n",
    "import unicodecsv\n",
    "\n",
    "def read_csv(filename):\n",
    "    with open(filename, 'rb') as f:\n",
    "        reader = unicodecsv.DictReader(f)\n",
    "        return list(reader)\n",
    "\n",
    "daily_engagement = read_csv('daily_engagement.csv')"
   ]
  },
  {
   "cell_type": "code",
   "execution_count": 75,
   "id": "2c160663-2817-4c36-8166-240958f625ef",
   "metadata": {},
   "outputs": [
    {
     "data": {
      "text/plain": [
       "1237"
      ]
     },
     "execution_count": 75,
     "metadata": {},
     "output_type": "execute_result"
    }
   ],
   "source": [
    "def get_unique_students(data):\n",
    "    unique_students = set()\n",
    "    for data_point in data:\n",
    "        unique_students.add(data_point['acct'])\n",
    "    return unique_students\n",
    "    \n",
    "\n",
    "unique_engagement_students = get_unique_students(daily_engagement)\n",
    "len(unique_engagement_students)\n"
   ]
  },
  {
   "cell_type": "code",
   "execution_count": 6,
   "id": "ab6cc178-d6d6-490d-bfdf-d6dbe5ae8bb3",
   "metadata": {},
   "outputs": [
    {
     "data": {
      "text/plain": [
       "1237"
      ]
     },
     "execution_count": 6,
     "metadata": {},
     "output_type": "execute_result"
    }
   ],
   "source": [
    "# 2.03 One-Dimensional Data in NumPy and Pandas (مقارنة المكتبتين) (2)\n",
    "# Pandas\n",
    "\n",
    "import pandas as pd\n",
    "daily_engagement = pd.read_csv('daily_engagement_full.csv')\n",
    "len(daily_engagement['acct'].unique())"
   ]
  },
  {
   "cell_type": "code",
   "execution_count": 99,
   "id": "9c6a8b43-5b53-45a4-85f4-fc98d1ec8402",
   "metadata": {},
   "outputs": [
    {
     "name": "stdout",
     "output_type": "stream",
     "text": [
      "Afghanistan\n",
      "Angola\n",
      "['Afghanistan' 'Albania' 'Algeria']\n",
      "['Afghanistan' 'Albania' 'Algeria']\n",
      "['Bhutan' 'Bolivia' 'Bosnia and Herzegovina']\n",
      "['Afghanistan' 'Albania' 'Algeria' 'Angola' 'Argentina' 'Armenia'\n",
      " 'Australia' 'Austria' 'Azerbaijan' 'Bahamas' 'Bahrain' 'Bangladesh'\n",
      " 'Barbados' 'Belarus' 'Belgium' 'Belize' 'Benin' 'Bhutan' 'Bolivia'\n",
      " 'Bosnia and Herzegovina']\n",
      "<U22\n",
      "float64\n",
      "int32\n",
      "float64\n",
      "bool\n",
      "<U2\n",
      "Examining country Afghanistan\n",
      "Examining country Albania\n",
      "Examining country Algeria\n",
      "Examining country Angola\n",
      "Examining country Argentina\n",
      "Examining country Armenia\n",
      "Examining country Australia\n",
      "Examining country Austria\n",
      "Examining country Azerbaijan\n",
      "Examining country Bahamas\n",
      "Examining country Bahrain\n",
      "Examining country Bangladesh\n",
      "Examining country Barbados\n",
      "Examining country Belarus\n",
      "Examining country Belgium\n",
      "Examining country Belize\n",
      "Examining country Benin\n",
      "Examining country Bhutan\n",
      "Examining country Bolivia\n",
      "Examining country Bosnia and Herzegovina\n",
      "Country Afghanistan has employment 55.70000076\n",
      "Country Albania has employment 51.40000153\n",
      "Country Algeria has employment 50.5\n",
      "Country Angola has employment 75.69999695\n",
      "Country Argentina has employment 58.40000153\n",
      "Country Armenia has employment 40.09999847\n",
      "Country Australia has employment 61.5\n",
      "Country Austria has employment 57.09999847\n",
      "Country Azerbaijan has employment 60.90000153\n",
      "Country Bahamas has employment 66.59999847\n",
      "Country Bahrain has employment 60.40000153\n",
      "Country Bangladesh has employment 68.09999847\n",
      "Country Barbados has employment 66.90000153\n",
      "Country Belarus has employment 53.40000153\n",
      "Country Belgium has employment 48.59999847\n",
      "Country Belize has employment 56.79999924\n",
      "Country Benin has employment 71.59999847\n",
      "Country Bhutan has employment 58.40000153\n",
      "Country Bolivia has employment 70.40000153\n",
      "Country Bosnia and Herzegovina has employment 41.20000076\n",
      "58.68500003850001\n",
      "9.338269113687888\n",
      "75.69999695\n",
      "1173.70000077\n",
      "('Angola', 75.69999695)\n"
     ]
    }
   ],
   "source": [
    "# 2.04 NumPy Arrays (مصفوفة مكتبة NumPy) ()\n",
    "\n",
    "# Setting the data\n",
    "import numpy as np\n",
    "\n",
    "# First 20 countries with employment data\n",
    "countries = np.array([\n",
    "    'Afghanistan', 'Albania', 'Algeria', 'Angola', 'Argentina',\n",
    "    'Armenia', 'Australia', 'Austria', 'Azerbaijan', 'Bahamas',\n",
    "    'Bahrain', 'Bangladesh', 'Barbados', 'Belarus', 'Belgium',\n",
    "    'Belize', 'Benin', 'Bhutan', 'Bolivia',\n",
    "    'Bosnia and Herzegovina'\n",
    "])\n",
    "\n",
    "# Employment data in 2007 for those 20 countries\n",
    "employment = np.array([\n",
    "    55.70000076,  51.40000153,  50.5       ,  75.69999695,\n",
    "    58.40000153,  40.09999847,  61.5       ,  57.09999847,\n",
    "    60.90000153,  66.59999847,  60.40000153,  68.09999847,\n",
    "    66.90000153,  53.40000153,  48.59999847,  56.79999924,\n",
    "    71.59999847,  58.40000153,  70.40000153,  41.20000076\n",
    "])\n",
    "\n",
    "# Change False to True for each block of code to see what it does\n",
    "\n",
    "# Accessing elements\n",
    "if True:\n",
    "    print(countries[0])\n",
    "    print(countries[3])\n",
    "\n",
    "# Slicing\n",
    "if True:\n",
    "    print(countries[0:3])\n",
    "    print(countries[:3])\n",
    "    print(countries[17:])\n",
    "    print(countries[:])\n",
    "\n",
    "# Element types\n",
    "if True:\n",
    "    print(countries.dtype)\n",
    "    print(employment.dtype)\n",
    "    print(np.array([0, 1, 2, 3]).dtype)\n",
    "    print(np.array([1.0, 1.5, 2.0, 2.5]).dtype)\n",
    "    print(np.array([True, False, True]).dtype)\n",
    "    print(np.array(['AL', 'AK', 'AZ', 'AR', 'CA']).dtype)\n",
    "\n",
    "# Looping\n",
    "if True:\n",
    "    for country in countries:\n",
    "        print('Examining country {}'.format(country))\n",
    "\n",
    "    for i in range(len(countries)):\n",
    "        country = countries[i]\n",
    "        country_employment = employment[i]\n",
    "        print('Country {} has employment {}'.format(country,\n",
    "                country_employment))\n",
    "\n",
    "# Numpy functions\n",
    "if True:\n",
    "    print(employment.mean())\n",
    "    print(employment.std())\n",
    "    print(employment.max())\n",
    "    print(employment.sum())\n",
    "\n",
    "def max_employment(countries, employment):\n",
    "    '''\n",
    "    Fill in this function to return the name of the country\n",
    "    with the highest employment in the given employment\n",
    "    data, and the employment in that country.\n",
    "    '''\n",
    "    \n",
    "    max_country = None\n",
    "    max_value = 0\n",
    "    \n",
    "    for country, employ in zip(countries, employment):\n",
    "        if employ > max_value:\n",
    "            max_value = employ\n",
    "            max_country = country\n",
    "\n",
    "    return (max_country, max_value)\n",
    "\n",
    "print(max_employment(countries, employment))"
   ]
  },
  {
   "cell_type": "code",
   "execution_count": null,
   "id": "594c3ebc-a45b-4aa8-9ea7-3151530b09a5",
   "metadata": {},
   "outputs": [],
   "source": [
    "# 2.05 Vectorized Operations (العمليات المتجهة)\n",
    "# 2.06 Multiplying by a Scalar (الضرب في العدد القياسي)"
   ]
  },
  {
   "cell_type": "code",
   "execution_count": 129,
   "id": "4a857ea5-9f7b-46f8-a79d-6ead422b5a83",
   "metadata": {},
   "outputs": [
    {
     "name": "stdout",
     "output_type": "stream",
     "text": [
      "[5 7 9]\n",
      "[-3 -3 -3]\n",
      "[ 4 10 18]\n",
      "[0.25 0.4  0.5 ]\n",
      "[  1  32 729]\n"
     ]
    }
   ],
   "source": [
    "# 2.07 Calculate Overall Completion Rate (حساب معدل الإنجاز الإجمالي)\n",
    "\n",
    "import numpy as np\n",
    "\n",
    "# Arithmetic operations between 2 NumPy arrays\n",
    "a = np.array([1, 2, 3])\n",
    "b = np.array([4, 5, 6])\n",
    "\n",
    "print(a + b)\n",
    "print(a - b)\n",
    "print(a * b)\n",
    "print(a / b)\n",
    "print(a ** b)"
   ]
  },
  {
   "cell_type": "code",
   "execution_count": 131,
   "id": "59d58af7-ea4f-48c2-bd91-5a01ebfbb1ce",
   "metadata": {},
   "outputs": [
    {
     "name": "stdout",
     "output_type": "stream",
     "text": [
      "[3 4 5 6]\n",
      "[-1  0  1  2]\n",
      "[2 4 6 8]\n",
      "[0.5 1.  1.5 2. ]\n",
      "[ 1  4  9 16]\n"
     ]
    }
   ],
   "source": [
    "\n",
    "# Arithmetic operations between a NumPy array and a single number\n",
    "a = np.array([1, 2, 3, 4])\n",
    "b = 2\n",
    "\n",
    "print (a + b)\n",
    "print (a - b)\n",
    "print (a * b)\n",
    "print (a / b)\n",
    "print (a ** b)"
   ]
  },
  {
   "cell_type": "code",
   "execution_count": 133,
   "id": "da88e0e2-d245-4afa-bf62-5314e2b20b3b",
   "metadata": {},
   "outputs": [
    {
     "name": "stdout",
     "output_type": "stream",
     "text": [
      "[ True False False False]\n",
      "[ True  True  True False]\n",
      "[False False  True  True]\n",
      "[ True  True False False]\n",
      "[False False False False]\n",
      "[ True  True  True  True]\n",
      "[ True  True False False]\n"
     ]
    }
   ],
   "source": [
    "# Logical operations with NumPy arrays\n",
    "a = np.array([True, True, False, False])\n",
    "b = np.array([True, False, True, False])\n",
    "\n",
    "print (a & b)\n",
    "print (a | b)\n",
    "print (~a)\n",
    "\n",
    "print (a & True)\n",
    "print (a & False)\n",
    "\n",
    "print (a | True)\n",
    "print (a | False)"
   ]
  },
  {
   "cell_type": "code",
   "execution_count": 135,
   "id": "f4f66f67-8388-4b01-a544-1b2b7c34153e",
   "metadata": {},
   "outputs": [
    {
     "name": "stdout",
     "output_type": "stream",
     "text": [
      "[False False False  True  True]\n",
      "[False False  True  True  True]\n",
      "[ True  True False False False]\n",
      "[ True  True  True False False]\n",
      "[False False  True False False]\n",
      "[ True  True False  True  True]\n"
     ]
    }
   ],
   "source": [
    "# Comparison operations between 2 NumPy Arrays\n",
    "a = np.array([1, 2, 3, 4, 5])\n",
    "b = np.array([5, 4, 3, 2, 1])\n",
    "\n",
    "print (a > b)\n",
    "print (a >= b)\n",
    "print (a < b)\n",
    "print (a <= b)\n",
    "print (a == b)\n",
    "print (a != b)"
   ]
  },
  {
   "cell_type": "code",
   "execution_count": 137,
   "id": "e1316af8-6ae4-4298-99e9-bb628bb6583c",
   "metadata": {},
   "outputs": [
    {
     "name": "stdout",
     "output_type": "stream",
     "text": [
      "[False False  True  True]\n",
      "[False  True  True  True]\n",
      "[ True False False False]\n",
      "[ True  True False False]\n",
      "[False  True False False]\n",
      "[ True False  True  True]\n"
     ]
    }
   ],
   "source": [
    "# Comparison operations between a NumPy array and a single number\n",
    "a = np.array([1, 2, 3, 4])\n",
    "b = 2\n",
    "\n",
    "print (a > b)\n",
    "print (a >= b)\n",
    "print (a < b)\n",
    "print (a <= b)\n",
    "print (a == b)\n",
    "print (a != b)"
   ]
  },
  {
   "cell_type": "code",
   "execution_count": 219,
   "id": "8b0d556e-24b4-4c8f-acba-5906897d47e8",
   "metadata": {},
   "outputs": [
    {
     "data": {
      "text/plain": [
       "array([ 96.416025, 102.644275, 101.41129 ,  93.316285, 103.455575,\n",
       "        98.148215, 102.35113 ,  91.77855 ,  92.835475,  89.655755,\n",
       "        99.218715,  98.484275,  94.172835, 117.335125,  98.275645,\n",
       "        33.04039 ,  41.905225,  90.962965,  57.08404 ,  93.06015 ])"
      ]
     },
     "execution_count": 219,
     "metadata": {},
     "output_type": "execute_result"
    }
   ],
   "source": [
    "# First 20 countries with school completion data\n",
    "countries = np.array([\n",
    "       'Algeria', 'Argentina', 'Armenia', 'Aruba', 'Austria','Azerbaijan',\n",
    "       'Bahamas', 'Barbados', 'Belarus', 'Belgium', 'Belize', 'Bolivia',\n",
    "       'Botswana', 'Brunei', 'Bulgaria', 'Burkina Faso', 'Burundi',\n",
    "       'Cambodia', 'Cameroon', 'Cape Verde'\n",
    "])\n",
    "\n",
    "# Female school completion rate in 2007 for those 20 countries\n",
    "female_completion = np.array([\n",
    "    97.35583,  104.62379,  103.02998,   95.14321,  103.69019,\n",
    "    98.49185,  100.88828,   95.43974,   92.11484,   91.54804,\n",
    "    95.98029,   98.22902,   96.12179,  119.28105,   97.84627,\n",
    "    29.07386,   38.41644,   90.70509,   51.7478 ,   95.45072\n",
    "])\n",
    "\n",
    "# Male school completion rate in 2007 for those 20 countries\n",
    "male_completion = np.array([\n",
    "     95.47622,  100.66476,   99.7926 ,   91.48936,  103.22096,\n",
    "     97.80458,  103.81398,   88.11736,   93.55611,   87.76347,\n",
    "    102.45714,   98.73953,   92.22388,  115.3892 ,   98.70502,\n",
    "     37.00692,   45.39401,   91.22084,   62.42028,   90.66958\n",
    "])\n",
    "\n",
    "def overall_completion_rate(female_completion, male_completion):\n",
    "    '''\n",
    "    Fill in this function to return a NumPy array containing the overall\n",
    "    school completion rate for each country. The arguments are NumPy\n",
    "    arrays giving the female and male completion of each country in\n",
    "    the same order.\n",
    "    '''\n",
    "    return (female_completion + male_completion) / 2.0\n",
    "\n",
    "overall_completion_rate(female_completion, male_completion)"
   ]
  },
  {
   "cell_type": "code",
   "execution_count": 215,
   "id": "b66bc14b-90af-4df3-942e-f57b297ea619",
   "metadata": {},
   "outputs": [
    {
     "ename": "NameError",
     "evalue": "name 'values' is not defined",
     "output_type": "error",
     "traceback": [
      "\u001b[1;31m---------------------------------------------------------------------------\u001b[0m",
      "\u001b[1;31mNameError\u001b[0m                                 Traceback (most recent call last)",
      "Cell \u001b[1;32mIn[215], line 40\u001b[0m\n\u001b[0;32m     31\u001b[0m \u001b[38;5;250m    \u001b[39m\u001b[38;5;124;03m'''\u001b[39;00m\n\u001b[0;32m     32\u001b[0m \u001b[38;5;124;03m    Fill in this function to return a standardized version of the given values,\u001b[39;00m\n\u001b[0;32m     33\u001b[0m \u001b[38;5;124;03m    which will be in a NumPy array. Each value should be translated into the\u001b[39;00m\n\u001b[1;32m   (...)\u001b[0m\n\u001b[0;32m     36\u001b[0m \u001b[38;5;124;03m    number indicates a value lower than the mean.)\u001b[39;00m\n\u001b[0;32m     37\u001b[0m \u001b[38;5;124;03m    '''\u001b[39;00m\n\u001b[0;32m     38\u001b[0m     \u001b[38;5;28;01mreturn\u001b[39;00m (values \u001b[38;5;241m-\u001b[39m values\u001b[38;5;241m.\u001b[39mmean())\u001b[38;5;241m/\u001b[39mvalues\u001b[38;5;241m.\u001b[39mstd()\n\u001b[1;32m---> 40\u001b[0m standardize_data(values)\n",
      "\u001b[1;31mNameError\u001b[0m: name 'values' is not defined"
     ]
    }
   ],
   "source": [
    "# 2.08 Standardizing Data ()\n",
    "\n",
    "import numpy as np\n",
    "\n",
    "# First 20 countries with employment data\n",
    "countries = np.array([\n",
    "    'Afghanistan', 'Albania', 'Algeria', 'Angola', 'Argentina',\n",
    "    'Armenia', 'Australia', 'Austria', 'Azerbaijan', 'Bahamas',\n",
    "    'Bahrain', 'Bangladesh', 'Barbados', 'Belarus', 'Belgium',\n",
    "    'Belize', 'Benin', 'Bhutan', 'Bolivia',\n",
    "    'Bosnia and Herzegovina'\n",
    "])\n",
    "\n",
    "# Employment data in 2007 for those 20 countries\n",
    "employment = np.array([\n",
    "    55.70000076,  51.40000153,  50.5       ,  75.69999695,\n",
    "    58.40000153,  40.09999847,  61.5       ,  57.09999847,\n",
    "    60.90000153,  66.59999847,  60.40000153,  68.09999847,\n",
    "    66.90000153,  53.40000153,  48.59999847,  56.79999924,\n",
    "    71.59999847,  58.40000153,  70.40000153,  41.20000076\n",
    "])\n",
    "\n",
    "# Change this country name to change what country will be printed when you\n",
    "# click \"Test Run\". Your function will be called to determine the standardized\n",
    "# score for this country for each of the given 5 Gapminder variables in 2007.\n",
    "# The possible country names are available in the Downloadables section.\n",
    "\n",
    "country_name = 'United States'\n",
    "\n",
    "def standardize_data(values):\n",
    "    '''\n",
    "    Fill in this function to return a standardized version of the given values,\n",
    "    which will be in a NumPy array. Each value should be translated into the\n",
    "    number of standard deviations that value is away from the mean of the data.\n",
    "    (A positive number indicates a value higher than the mean, and a negative\n",
    "    number indicates a value lower than the mean.)\n",
    "    '''\n",
    "    return (values - values.mean())/values.std()\n",
    "    \n",
    "standardize_data(values)"
   ]
  },
  {
   "cell_type": "code",
   "execution_count": 225,
   "id": "ee729af1-af70-4a01-ab31-68bd9f5d9a04",
   "metadata": {},
   "outputs": [
    {
     "name": "stdout",
     "output_type": "stream",
     "text": [
      "41.05400348545454\n"
     ]
    }
   ],
   "source": [
    "# 2.09 NumPy Index Arrays ()\n",
    "\n",
    "import numpy as np\n",
    "\n",
    "# Change False to True for each block of code to see what it does\n",
    "\n",
    "# Using index arrays\n",
    "if False:\n",
    "    a = np.array([1, 2, 3, 4])\n",
    "    b = np.array([True, True, False, False])\n",
    "    \n",
    "    print(a[b])\n",
    "    print(a[np.array([True, False, True, False])])\n",
    "    \n",
    "# Creating the index array using vectorized operations\n",
    "if False:\n",
    "    a = np.array([1, 2, 3, 2, 1])\n",
    "    b = (a >= 2)\n",
    "    \n",
    "    print(a[b])\n",
    "    print(a[a >= 2])\n",
    "    \n",
    "# Creating the index array using vectorized operations on another array\n",
    "if False:\n",
    "    a = np.array([1, 2, 3, 4, 5])\n",
    "    b = np.array([1, 2, 3, 2, 1])\n",
    "    \n",
    "    print(b == 2)\n",
    "    print(a[b == 2])\n",
    "\n",
    "def mean_time_for_paid_students(time_spent, days_to_cancel):\n",
    "    '''\n",
    "    Fill in this function to calculate the mean time spent in the classroom\n",
    "    for students who stayed enrolled at least (greater than or equal to) 7 days.\n",
    "    Unlike in Lesson 1, you can assume that days_to_cancel will contain only\n",
    "    integers (there are no students who have not canceled yet).\n",
    "    \n",
    "    The arguments are NumPy arrays. time_spent contains the amount of time spent\n",
    "    in the classroom for each student, and days_to_cancel contains the number\n",
    "    of days until each student cancel. The data is given in the same order\n",
    "    in both arrays.\n",
    "    '''\n",
    "    return np.mean(time_spent[days_to_cancel >= 7])\n",
    "\n",
    "# Time spent in the classroom in the first week for 20 students\n",
    "time_spent = np.array([\n",
    "       12.89697233,    0.        ,   64.55043217,    0.        ,\n",
    "       24.2315615 ,   39.991625  ,    0.        ,    0.        ,\n",
    "      147.20683783,    0.        ,    0.        ,    0.        ,\n",
    "       45.18261617,  157.60454283,  133.2434615 ,   52.85000767,\n",
    "        0.        ,   54.9204785 ,   26.78142417,    0.\n",
    "])\n",
    "\n",
    "# Days to cancel for 20 students\n",
    "days_to_cancel = np.array([\n",
    "      4,   5,  37,   3,  12,   4,  35,  38,   5,  37,   3,   3,  68,\n",
    "     38,  98,   2, 249,   2, 127,  35\n",
    "])\n",
    "\n",
    "print(mean_time_for_paid_students(time_spent, days_to_cancel))"
   ]
  },
  {
   "cell_type": "code",
   "execution_count": 227,
   "id": "17e54770-44f1-4efc-9981-5e0873c1d4b3",
   "metadata": {},
   "outputs": [
    {
     "name": "stdout",
     "output_type": "stream",
     "text": [
      "a = [1 2 3 4 5] \n",
      "b = a = [1 2 3 4 5] \n",
      "c = [1 1 1 1 1]\n",
      "b (after a = a+c) = [1 2 3 4 5]\n",
      "\n",
      "a = [1 2 3 4 5] \n",
      "b = a = [1 2 3 4 5] \n",
      "c = [1 1 1 1 1]\n",
      "b (after a += c) = [2 3 4 5 6]\n"
     ]
    }
   ],
   "source": [
    "# 2.10 (+) vs (+=) ()\n",
    "\n",
    "# Testing +\n",
    "a = np.array([1,2,3,4,5])\n",
    "b = a\n",
    "c = np.array([1,1,1,1,1])\n",
    "print(f'a = {a} \\nb = a = {b} \\nc = {c}')\n",
    "a = a + c\n",
    "print(f'b (after a = a+c) = {b}')  \n",
    "# `b` will have no change, as `a+b` is a new array\n",
    "\n",
    "print()\n",
    "\n",
    "# Testing +=\n",
    "a = np.array([1,2,3,4,5])\n",
    "b = a\n",
    "c = np.array([1,1,1,1,1])\n",
    "print(f'a = {a} \\nb = a = {b} \\nc = {c}')\n",
    "a += c\n",
    "print(f'b (after a += c) = {b}')  \n",
    "# `b` will take the value of `a` as the operation is done in-place"
   ]
  },
  {
   "cell_type": "code",
   "execution_count": 235,
   "id": "574485f4-51db-4717-bfda-da45685fb60e",
   "metadata": {},
   "outputs": [
    {
     "name": "stdout",
     "output_type": "stream",
     "text": [
      "[1, 2, 3, 4, 5]\n",
      "[100   2   3   4   5]\n"
     ]
    }
   ],
   "source": [
    "# 2.11 In-place vs Not in-place ()\n",
    "\n",
    "# Slicing in Python lists\n",
    "\n",
    "a = [1, 2, 3, 4, 5]\n",
    "segment = a[:3]  \n",
    "# new array; not in place\n",
    "segment[0] = 100\n",
    "print(a)\n",
    "\n",
    "a = np.array([1, 2, 3, 4, 5])\n",
    "segment = a[:3]\n",
    "segment[0] = 100  \n",
    "# change will happen in same array since in place\n",
    "print(a)"
   ]
  },
  {
   "cell_type": "code",
   "execution_count": 247,
   "id": "add44c11-9bcb-4a41-b52d-bbe2e272fe55",
   "metadata": {},
   "outputs": [
    {
     "name": "stdout",
     "output_type": "stream",
     "text": [
      "life expectancy series (first 5 values): \n",
      "0    74.7\n",
      "1    75.0\n",
      "2    83.4\n",
      "3    57.6\n",
      "4    74.6\n",
      "dtype: float64\n",
      "\n",
      "GDP series (first 5 values): \n",
      "0     1681.613910\n",
      "1     2155.485231\n",
      "2    21495.805083\n",
      "3      562.987685\n",
      "4    13495.127466\n",
      "dtype: float64\n",
      "74.7\n",
      "3      562.987685\n",
      "4    13495.127466\n",
      "5     9388.688523\n",
      "dtype: float64\n",
      "Examining life expectancy 74.7\n",
      "Examining life expectancy 75.0\n",
      "Examining life expectancy 83.4\n",
      "Examining life expectancy 57.6\n",
      "Examining life expectancy 74.6\n",
      "Examining life expectancy 75.4\n",
      "Examining life expectancy 72.3\n",
      "Examining life expectancy 81.5\n",
      "Examining life expectancy 80.2\n",
      "Examining life expectancy 70.3\n",
      "Examining life expectancy 72.1\n",
      "Examining life expectancy 76.4\n",
      "Examining life expectancy 68.1\n",
      "Examining life expectancy 75.2\n",
      "Examining life expectancy 69.8\n",
      "Examining life expectancy 79.4\n",
      "Examining life expectancy 70.8\n",
      "Examining life expectancy 62.7\n",
      "Examining life expectancy 67.3\n",
      "Examining life expectancy 70.6\n",
      "72.86999999999999\n",
      "6.213999474869968\n",
      "27036.48733192\n",
      "182957.59832967006\n",
      "0    2\n",
      "1    4\n",
      "2    4\n",
      "3    6\n",
      "dtype: int64\n",
      "0    2\n",
      "1    4\n",
      "2    6\n",
      "3    8\n",
      "dtype: int64\n",
      "0    False\n",
      "1    False\n",
      "2     True\n",
      "3     True\n",
      "dtype: bool\n",
      "2    3\n",
      "3    4\n",
      "dtype: int64\n",
      "(4, 0)\n",
      "(0, 4)\n",
      "(17, 3)\n"
     ]
    }
   ],
   "source": [
    "# 2.12 Pandas Series ()\n",
    "\n",
    "# Pandas Series\n",
    "    # Pandas Series are n-dimensional arrays (much like Numpy arrays), \n",
    "    # but with greater functionalities.\n",
    "\n",
    "import pandas as pd\n",
    "\n",
    "countries = ['Albania', 'Algeria', 'Andorra', 'Angola', 'Antigua and Barbuda',\n",
    "             'Argentina', 'Armenia', 'Australia', 'Austria', 'Azerbaijan',\n",
    "             'Bahamas', 'Bahrain', 'Bangladesh', 'Barbados', 'Belarus',\n",
    "             'Belgium', 'Belize', 'Benin', 'Bhutan', 'Bolivia']\n",
    "\n",
    "life_expectancy_values = [74.7,  75. ,  83.4,  57.6,  74.6,  75.4,  72.3,  81.5,  80.2,\n",
    "                          70.3,  72.1,  76.4,  68.1,  75.2,  69.8,  79.4,  70.8,  62.7,\n",
    "                          67.3,  70.6]\n",
    "\n",
    "gdp_values = [ 1681.61390973,   2155.48523109,  21495.80508273,    562.98768478,\n",
    "              13495.1274663 ,   9388.68852258,   1424.19056199,  24765.54890176,\n",
    "              27036.48733192,   1945.63754911,  21721.61840978,  13373.21993972,\n",
    "                483.97086804,   9783.98417323,   2253.46411147,  25034.66692293,\n",
    "               3680.91642923,    366.04496652,   1175.92638695,   1132.21387981]\n",
    "\n",
    "\n",
    "\n",
    "# Create pd Series for life expectancy and GDP arrays\n",
    "life_expectancy = pd.Series(life_expectancy_values)\n",
    "gdp = pd.Series(gdp_values)\n",
    "\n",
    "print(f'life expectancy series (first 5 values): \\n{life_expectancy[:5]}')\n",
    "print()\n",
    "print(f'GDP series (first 5 values): \\n{gdp[:5]}')\n",
    "\n",
    "# Life expectancy and gdp data in 2007 for 20 countries\n",
    "life_expectancy = pd.Series(life_expectancy_values)\n",
    "gdp = pd.Series(gdp_values)\n",
    "\n",
    "# Change False to True for each block of code to see what it does\n",
    "\n",
    "# Accessing elements and slicing\n",
    "if True:\n",
    "    print(life_expectancy[0])\n",
    "    print(gdp[3:6])\n",
    "    \n",
    "# Looping\n",
    "if True:\n",
    "    for country_life_expectancy in life_expectancy:\n",
    "        print('Examining life expectancy {}'.format(country_life_expectancy))\n",
    "        \n",
    "# Pandas functions\n",
    "if True:\n",
    "    print(life_expectancy.mean())\n",
    "    print(life_expectancy.std())\n",
    "    print(gdp.max())\n",
    "    print(gdp.sum())\n",
    "\n",
    "# Vectorized operations and index arrays\n",
    "if True:\n",
    "    a = pd.Series([1, 2, 3, 4])\n",
    "    b = pd.Series([1, 2, 1, 2])\n",
    "  \n",
    "    print(a + b)\n",
    "    print(a * 2)\n",
    "    print(a >= 3)\n",
    "    print(a[a >= 3])\n",
    "    \n",
    "a1 = pd.Series([True, True, False])\n",
    "a2 = pd.Series([False, True, False])\n",
    "(a1 == a2).sum()\n",
    "\n",
    "def variable_correlation(variable1, variable2):\n",
    "    '''\n",
    "    Fill in this function to calculate the number of data points for which\n",
    "    the directions of variable1 and variable2 relative to the mean are the\n",
    "    same, and the number of data points for which they are different.\n",
    "    Direction here means whether each value is above or below its mean.\n",
    "    \n",
    "    You can classify cases where the value is equal to the mean for one or\n",
    "    both variables however you like.\n",
    "    \n",
    "    Each argument will be a Pandas series.\n",
    "    \n",
    "    For example, if the inputs were pd.Series([1, 2, 3, 4]) and\n",
    "    pd.Series([4, 5, 6, 7]), then the output would be (4, 0).\n",
    "    This is because 1 and 4 are both below their means, 2 and 5 are both\n",
    "    below, 3 and 6 are both above, and 4 and 7 are both above.\n",
    "    \n",
    "    On the other hand, if the inputs were pd.Series([1, 2, 3, 4]) and\n",
    "    pd.Series([7, 6, 5, 4]), then the output would be (0, 4).\n",
    "    This is because 1 is below its mean but 7 is above its mean, and\n",
    "    so on.\n",
    "    '''\n",
    "    mean1 = variable1.mean()\n",
    "    mean2 = variable2.mean()\n",
    "    up1 = variable1 > mean1\n",
    "    up2 = variable2 > mean2\n",
    "    \n",
    "    num_same_direction = (up1 == up2).sum()        # Replace this with your code\n",
    "    num_different_direction = (up1 != up2).sum()   # Replace this with your code\n",
    "    \n",
    "    return (num_same_direction, num_different_direction)\n",
    "    \n",
    "print(variable_correlation(pd.Series([1, 2, 3, 4]), pd.Series([1, 2, 3, 4])))\n",
    "print(variable_correlation(pd.Series([1, 2, 3, 4]), pd.Series([7, 6, 5, 4])))\n",
    "print(variable_correlation(life_expectancy, gdp))"
   ]
  },
  {
   "cell_type": "code",
   "execution_count": 249,
   "id": "86b71b8e-2735-4a55-b475-568ee985f914",
   "metadata": {},
   "outputs": [
    {
     "name": "stdout",
     "output_type": "stream",
     "text": [
      "life expectancy series (first 5 values): \n",
      "0    74.7\n",
      "1    75.0\n",
      "2    83.4\n",
      "3    57.6\n",
      "4    74.6\n",
      "dtype: float64\n",
      "\n",
      "GDP series (first 5 values): \n",
      "0     1681.613910\n",
      "1     2155.485231\n",
      "2    21495.805083\n",
      "3      562.987685\n",
      "4    13495.127466\n",
      "dtype: float64\n"
     ]
    }
   ],
   "source": [
    "# التالي بشكل مفصل السابق قطعة واحدة\n",
    "\n",
    "# Create pd Series for life expectancy and GDP arrays\n",
    "\n",
    "life_expectancy = pd.Series(life_expectancy_values)\n",
    "gdp = pd.Series(gdp_values)\n",
    "print(f'life expectancy series (first 5 values): \\n{life_expectancy[:5]}')\n",
    "print()\n",
    "print(f'GDP series (first 5 values): \\n{gdp[:5]}')"
   ]
  },
  {
   "cell_type": "code",
   "execution_count": 9,
   "id": "4b84e614-6d91-4a36-b2fc-fe4b88821b2e",
   "metadata": {},
   "outputs": [
    {
     "name": "stdout",
     "output_type": "stream",
     "text": [
      "74.7\n",
      "3      562.987685\n",
      "4    13495.127466\n",
      "5     9388.688523\n",
      "dtype: float64\n"
     ]
    }
   ],
   "source": [
    "# Accessing elements and slicing\n",
    "print (life_expectancy[0])\n",
    "print (gdp[3:6])"
   ]
  },
  {
   "cell_type": "code",
   "execution_count": 10,
   "id": "b7dbcd46-2f53-4fbd-b495-60064714d8dc",
   "metadata": {},
   "outputs": [
    {
     "name": "stdout",
     "output_type": "stream",
     "text": [
      "Examining life expectancy 74.7\n",
      "Examining life expectancy 75.0\n",
      "Examining life expectancy 83.4\n",
      "Examining life expectancy 57.6\n",
      "Examining life expectancy 74.6\n",
      "Examining life expectancy 75.4\n",
      "Examining life expectancy 72.3\n",
      "Examining life expectancy 81.5\n",
      "Examining life expectancy 80.2\n",
      "Examining life expectancy 70.3\n",
      "Examining life expectancy 72.1\n",
      "Examining life expectancy 76.4\n",
      "Examining life expectancy 68.1\n",
      "Examining life expectancy 75.2\n",
      "Examining life expectancy 69.8\n",
      "Examining life expectancy 79.4\n",
      "Examining life expectancy 70.8\n",
      "Examining life expectancy 62.7\n",
      "Examining life expectancy 67.3\n",
      "Examining life expectancy 70.6\n"
     ]
    }
   ],
   "source": [
    "# Looping\n",
    "for country_life_expectancy in life_expectancy:\n",
    "    print ('Examining life expectancy {}'.format(country_life_expectancy))"
   ]
  },
  {
   "cell_type": "code",
   "execution_count": 11,
   "id": "13b809fe-7415-4724-853e-2c8839a3a4cf",
   "metadata": {},
   "outputs": [
    {
     "name": "stdout",
     "output_type": "stream",
     "text": [
      "72.86999999999999\n",
      "6.213999474869968\n",
      "27036.48733192\n",
      "182957.59832967006\n"
     ]
    }
   ],
   "source": [
    "# Pandas functions\n",
    "print (life_expectancy.mean())\n",
    "print (life_expectancy.std())\n",
    "print (gdp.max())\n",
    "print (gdp.sum())"
   ]
  },
  {
   "cell_type": "code",
   "execution_count": 12,
   "id": "4f61b750-e6f9-4cdc-b000-94aaf7f42c8e",
   "metadata": {},
   "outputs": [
    {
     "name": "stdout",
     "output_type": "stream",
     "text": [
      "0    2\n",
      "1    4\n",
      "2    4\n",
      "3    6\n",
      "dtype: int64\n",
      "0    2\n",
      "1    4\n",
      "2    6\n",
      "3    8\n",
      "dtype: int64\n",
      "0    False\n",
      "1    False\n",
      "2     True\n",
      "3     True\n",
      "dtype: bool\n",
      "2    3\n",
      "3    4\n",
      "dtype: int64\n"
     ]
    }
   ],
   "source": [
    "# Vectorized operations and index arrays\n",
    "a = pd.Series([1, 2, 3, 4])\n",
    "b = pd.Series([1, 2, 1, 2])\n",
    "\n",
    "print (a + b)\n",
    "print (a * 2)\n",
    "print (a >= 3)\n",
    "print (a[a >= 3])"
   ]
  },
  {
   "cell_type": "code",
   "execution_count": 13,
   "id": "48746ca4-e361-4410-8d58-feb8a5576ba8",
   "metadata": {},
   "outputs": [
    {
     "data": {
      "text/plain": [
       "2"
      ]
     },
     "execution_count": 13,
     "metadata": {},
     "output_type": "execute_result"
    }
   ],
   "source": [
    "a1 = pd.Series([True, True, False])\n",
    "a2 = pd.Series([False, True, False])\n",
    "(a1 == a2).sum()\n"
   ]
  },
  {
   "cell_type": "code",
   "execution_count": 14,
   "id": "6c35728d-f2c2-4dd7-b0b5-355f3fffd8af",
   "metadata": {},
   "outputs": [
    {
     "name": "stdout",
     "output_type": "stream",
     "text": [
      "(4, 0)\n",
      "(0, 4)\n",
      "(17, 3)\n"
     ]
    }
   ],
   "source": [
    "def variable_correlation(variable1, variable2):\n",
    "    '''\n",
    "    Fill in this function to calculate the number of data points for which\n",
    "    the directions of variable1 and variable2 relative to the mean are the\n",
    "    same, and the number of data points for which they are different.\n",
    "    Direction here means whether each value is above or below its mean.\n",
    "    \n",
    "    You can classify cases where the value is equal to the mean for one or\n",
    "    both variables however you like.\n",
    "    \n",
    "    Each argument will be a Pandas series.\n",
    "    \n",
    "    For example, if the inputs were pd.Series([1, 2, 3, 4]) and\n",
    "    pd.Series([1, 2, 3, 4]), then the output would be (4, 0).\n",
    "    This is because 1 and 4 are both below their means, 2 and 5 are both\n",
    "    below, 3 and 6 are both above, and 4 and 7 are both above.\n",
    "    \n",
    "    On the other hand, if the inputs were pd.Series([1, 2, 3, 4]) and\n",
    "    pd.Series([7, 6, 5, 4]), then the output would be (0, 4).\n",
    "    This is because 1 is below its mean but 7 is above its mean, and\n",
    "    so on.\n",
    "    '''\n",
    "    mean1 = variable1.mean()\n",
    "    mean2 = variable2.mean()\n",
    "    up1 = variable1 > mean1\n",
    "    up2 = variable2 > mean2\n",
    "    num_same_direction = (up1 == up2).sum()\n",
    "    num_different_direction = (up1 != up2).sum()\n",
    "    \n",
    "    return (num_same_direction, num_different_direction)\n",
    "\n",
    "print(variable_correlation(pd.Series([1, 2, 3, 4]), pd.Series([1, 2, 3, 4])))\n",
    "print(variable_correlation(pd.Series([1, 2, 3, 4]), pd.Series([7, 6, 5, 4])))\n",
    "print(variable_correlation(life_expectancy, gdp))"
   ]
  },
  {
   "cell_type": "code",
   "execution_count": 15,
   "id": "9d798aed-1210-42b5-8e9c-76c9f8c5e971",
   "metadata": {},
   "outputs": [
    {
     "name": "stdout",
     "output_type": "stream",
     "text": [
      "('Angola', 75.69999695)\n"
     ]
    }
   ],
   "source": [
    "# 2.13 Series Indexes ()\n",
    "\n",
    "countries = [\n",
    "    'Afghanistan', 'Albania', 'Algeria', 'Angola',\n",
    "    'Argentina', 'Armenia', 'Australia', 'Austria',\n",
    "    'Azerbaijan', 'Bahamas', 'Bahrain', 'Bangladesh',\n",
    "    'Barbados', 'Belarus', 'Belgium', 'Belize',\n",
    "    'Benin', 'Bhutan', 'Bolivia', 'Bosnia and Herzegovina',\n",
    "]\n",
    "\n",
    "\n",
    "employment_values = [\n",
    "    55.70000076,  51.40000153,  50.5       ,  75.69999695,\n",
    "    58.40000153,  40.09999847,  61.5       ,  57.09999847,\n",
    "    60.90000153,  66.59999847,  60.40000153,  68.09999847,\n",
    "    66.90000153,  53.40000153,  48.59999847,  56.79999924,\n",
    "    71.59999847,  58.40000153,  70.40000153,  41.20000076,\n",
    "]\n",
    "\n",
    "# Employment data in 2007 for 20 countries\n",
    "employment = pd.Series(employment_values, index=countries)\n",
    "\n",
    "def max_employment(employment):\n",
    "    '''\n",
    "    Fill in this function to return the name of the country\n",
    "    with the highest employment in the given employment\n",
    "    data, and the employment in that country.\n",
    "    \n",
    "    The input will be a Pandas series where the values\n",
    "    are employment and the index is country names.\n",
    "    \n",
    "    Try using the Pandas idxmax() function. Documention can\n",
    "    be found here:\n",
    "    http://pandas.pydata.org/pandas-docs/stable/generated/pandas.Series.idxmax.html\n",
    "    '''\n",
    "    max_country = employment.idxmax()\n",
    "    max_value = employment[max_country]\n",
    "\n",
    "    return (max_country, max_value)\n",
    "\n",
    "print(max_employment(employment))"
   ]
  },
  {
   "cell_type": "code",
   "execution_count": 16,
   "id": "b6157658-5d1e-4fc0-a417-3c5b9699df46",
   "metadata": {},
   "outputs": [
    {
     "name": "stdout",
     "output_type": "stream",
     "text": [
      "a    11\n",
      "b    22\n",
      "c    33\n",
      "d    44\n",
      "dtype: int64\n"
     ]
    }
   ],
   "source": [
    "# 2.14 Vectorized Operations and Series Indexes (1/4)\n",
    "\n",
    "# Addition when indexes are the same\n",
    "s1 = pd.Series([1, 2, 3, 4], index=['a', 'b', 'c', 'd'])\n",
    "s2 = pd.Series([10, 20, 30, 40], index=['a', 'b', 'c', 'd'])\n",
    "print (s1 + s2)"
   ]
  },
  {
   "cell_type": "code",
   "execution_count": 17,
   "id": "84c8955a-36aa-4844-a044-aa126276a591",
   "metadata": {},
   "outputs": [
    {
     "name": "stdout",
     "output_type": "stream",
     "text": [
      "a    31\n",
      "b    12\n",
      "c    43\n",
      "d    24\n",
      "dtype: int64\n"
     ]
    }
   ],
   "source": [
    "# 2.14 Vectorized Operations and Series Indexes (2/4)\n",
    "\n",
    "# Indexes have same elements in a different order\n",
    "s1 = pd.Series([1, 2, 3, 4], index=['a', 'b', 'c', 'd'])\n",
    "s2 = pd.Series([10, 20, 30, 40], index=['b', 'd', 'a', 'c'])\n",
    "print (s2 + s1)"
   ]
  },
  {
   "cell_type": "code",
   "execution_count": 18,
   "id": "a7b9da4c-476e-48b3-a1e3-03b0e9b86c90",
   "metadata": {},
   "outputs": [
    {
     "name": "stdout",
     "output_type": "stream",
     "text": [
      "a     NaN\n",
      "b     NaN\n",
      "c    13.0\n",
      "d    24.0\n",
      "e     NaN\n",
      "f     NaN\n",
      "dtype: float64\n"
     ]
    }
   ],
   "source": [
    "# 2.14 Vectorized Operations and Series Indexes (3/4)\n",
    "\n",
    "# Indexes overlap, but do not have exactly the same elements\n",
    "s1 = pd.Series([1, 2, 3, 4], index=['a', 'b', 'c', 'd'])\n",
    "s2 = pd.Series([10, 20, 30, 40], index=['c', 'd', 'e', 'f'])\n",
    "print (s1 + s2)"
   ]
  },
  {
   "cell_type": "code",
   "execution_count": 19,
   "id": "b1832237-f30c-4ebb-babb-99f6051ccd91",
   "metadata": {},
   "outputs": [
    {
     "name": "stdout",
     "output_type": "stream",
     "text": [
      "a   NaN\n",
      "b   NaN\n",
      "c   NaN\n",
      "d   NaN\n",
      "e   NaN\n",
      "f   NaN\n",
      "g   NaN\n",
      "h   NaN\n",
      "dtype: float64\n"
     ]
    }
   ],
   "source": [
    "# 2.14 Vectorized Operations and Series Indexes (4/4)\n",
    "\n",
    "# Indexes do not overlap\n",
    "s1 = pd.Series([1, 2, 3, 4], index=['a', 'b', 'c', 'd'])\n",
    "s2 = pd.Series([10, 20, 30, 40], index=['e', 'f', 'g', 'h'])\n",
    "print (s1 + s2)"
   ]
  },
  {
   "cell_type": "code",
   "execution_count": 261,
   "id": "4c18a382-2758-4c1b-ab02-0e792168184a",
   "metadata": {},
   "outputs": [
    {
     "name": "stdout",
     "output_type": "stream",
     "text": [
      "a     1.0\n",
      "b     2.0\n",
      "c    13.0\n",
      "d    24.0\n",
      "e    30.0\n",
      "f    40.0\n",
      "dtype: float64\n"
     ]
    }
   ],
   "source": [
    "# 2.15 Filling Missing Values (1/1)\n",
    "\n",
    "import pandas as pd\n",
    "\n",
    "s1 = pd.Series([1, 2, 3, 4], index=['a', 'b', 'c', 'd'])\n",
    "s2 = pd.Series([10, 20, 30, 40], index=['c', 'd', 'e', 'f'])\n",
    "\n",
    "# Try to write code that will add the 2 previous series together,\n",
    "# but treating missing values from either series as 0. The result\n",
    "# when printed out should be similar to the following line:\n",
    "# print (pd.Series([1, 2, 13, 24, 30, 40], index=['a', 'b', 'c', 'd', 'e', 'f']))\n",
    "\n",
    "s = s1 + s2\n",
    "na = ~ s.notna()\n",
    "\n",
    "na1 = na[:len(s1)]\n",
    "na1 = na1[na1].keys()\n",
    "na2 = na[len(s1):]\n",
    "na2 = na2[na2].keys()\n",
    "\n",
    "s[na1] = s1[na1]\n",
    "s[na2] = s2[na2]\n",
    "\n",
    "print(s)"
   ]
  },
  {
   "cell_type": "code",
   "execution_count": 263,
   "id": "f248056c-69b0-43a0-9b8b-ccdcfed4d40b",
   "metadata": {},
   "outputs": [
    {
     "name": "stdout",
     "output_type": "stream",
     "text": [
      "a     1.0\n",
      "b     2.0\n",
      "c    13.0\n",
      "d    24.0\n",
      "e    30.0\n",
      "f    40.0\n",
      "dtype: float64\n"
     ]
    }
   ],
   "source": [
    "# 2.15 Filling Missing Values (1/1)\n",
    "\n",
    "# Alternatively, use this:\n",
    "s = s1.add(s2, fill_value=0)\n",
    "print(s)"
   ]
  },
  {
   "cell_type": "code",
   "execution_count": 267,
   "id": "153ad8d4-4800-400a-a698-f0569972a73f",
   "metadata": {},
   "outputs": [
    {
     "name": "stdout",
     "output_type": "stream",
     "text": [
      "0    2\n",
      "1    3\n",
      "2    4\n",
      "3    5\n",
      "4    6\n",
      "dtype: int64\n"
     ]
    },
    {
     "data": {
      "text/plain": [
       "0             Agassi, Andre\n",
       "1              Bonds, Barry\n",
       "2     Columbus, Christopher\n",
       "3             Defoe, Daniel\n",
       "4           Estevez, Emilio\n",
       "5          Flintstone, Fred\n",
       "6              Garbo, Greta\n",
       "7          Humbert, Humbert\n",
       "8               Ilych, Ivan\n",
       "9              Joyce, James\n",
       "10         Knightley, Keira\n",
       "11               Lane, Lois\n",
       "12              Myers, Mike\n",
       "13              Nolte, Nick\n",
       "14           Osbourne, Ozzy\n",
       "15           Picasso, Pablo\n",
       "16       Quirrell, Quirinus\n",
       "17             Ray, Rachael\n",
       "18          Sarandon, Susan\n",
       "19             Turner, Tina\n",
       "20           Urbina, Ugueth\n",
       "21            Vaughn, Vince\n",
       "22          Wilson, Woodrow\n",
       "23             Yamada, Yoji\n",
       "24         Zidane, Zinedine\n",
       "dtype: object"
      ]
     },
     "execution_count": 267,
     "metadata": {},
     "output_type": "execute_result"
    }
   ],
   "source": [
    "# 2.16 Pandas Series apply() (1/2)\n",
    "\n",
    "import pandas as pd\n",
    "\n",
    "# Change False to True to see what the following block of code does\n",
    "\n",
    "# Example pandas apply() usage (although this could have been done\n",
    "# without apply() using vectorized operations)\n",
    "if True:\n",
    "    s = pd.Series([1, 2, 3, 4, 5])\n",
    "    def add_one(x):\n",
    "        return x + 1\n",
    "    print(s.apply(add_one))\n",
    "    \n",
    "names = pd.Series([\n",
    "    'Andre Agassi',\n",
    "    'Barry Bonds',\n",
    "    'Christopher Columbus',\n",
    "    'Daniel Defoe',\n",
    "    'Emilio Estevez',\n",
    "    'Fred Flintstone',\n",
    "    'Greta Garbo',\n",
    "    'Humbert Humbert',\n",
    "    'Ivan Ilych',\n",
    "    'James Joyce',\n",
    "    'Keira Knightley',\n",
    "    'Lois Lane',\n",
    "    'Mike Myers',\n",
    "    'Nick Nolte',\n",
    "    'Ozzy Osbourne',\n",
    "    'Pablo Picasso',\n",
    "    'Quirinus Quirrell',\n",
    "    'Rachael Ray',\n",
    "    'Susan Sarandon',\n",
    "    'Tina Turner',\n",
    "    'Ugueth Urbina',\n",
    "    'Vince Vaughn',\n",
    "    'Woodrow Wilson',\n",
    "    'Yoji Yamada',\n",
    "    'Zinedine Zidane'\n",
    "])\n",
    "\n",
    "def reverse_name(name=''):\n",
    "    first, last = name.split(' ')\n",
    "    return f'{last}, {first}'\n",
    "\n",
    "def reverse_names(names):\n",
    "    '''\n",
    "    Fill in this function to return a new series where each name\n",
    "    in the input series has been transformed from the format\n",
    "    \"Firstname Lastname\" to \"Lastname, FirstName\".\n",
    "    \n",
    "    Try to use the Pandas apply() function rather than a loop.\n",
    "    '''\n",
    "    return names.apply(reverse_name)\n",
    "\n",
    "reverse_names(names)"
   ]
  },
  {
   "cell_type": "code",
   "execution_count": 269,
   "id": "338ac883-0306-406c-bf8e-3cad64dfd88a",
   "metadata": {},
   "outputs": [],
   "source": [
    "# 2.17 Plotting in Pandas (1/2)\n",
    "\n",
    "import pandas as pd\n",
    "import seaborn as sns\n",
    "\n",
    "# The following code reads all the Gapminder data into Pandas DataFrames. You'll\n",
    "# learn about DataFrames next lesson.\n",
    "\n",
    "path = './'\n",
    "employment = pd.read_csv(path + 'employment_above_15.csv', index_col='Country')\n",
    "female_completion = pd.read_csv(path + 'female_completion_rate.csv', index_col='Country')\n",
    "male_completion = pd.read_csv(path + 'male_completion_rate.csv', index_col='Country')\n",
    "life_expectancy = pd.read_csv(path + 'life_expectancy.csv', index_col='Country')\n",
    "gdp = pd.read_csv(path + 'gdp_per_capita.csv', index_col='Country')\n",
    "\n",
    "# The following code creates a Pandas Series for each variable for the United States.\n",
    "# You can change the string 'United States' to a country of your choice.\n",
    "\n",
    "employment_us = employment.loc['United States']\n",
    "female_completion_us = female_completion.loc['United States']\n",
    "male_completion_us = male_completion.loc['United States']\n",
    "life_expectancy_us = life_expectancy.loc['United States']\n",
    "gdp_us = gdp.loc['United States']\n",
    "\n",
    "# Uncomment the following line of code to see the available country names\n",
    "# print (employment.index.values)"
   ]
  },
  {
   "cell_type": "code",
   "execution_count": 271,
   "id": "7cc7b61d-37d4-46cb-bedd-970bf1078e64",
   "metadata": {},
   "outputs": [
    {
     "data": {
      "text/plain": [
       "<Axes: >"
      ]
     },
     "execution_count": 271,
     "metadata": {},
     "output_type": "execute_result"
    },
    {
     "data": {
      "image/png": "[encoded data removed]",
      "text/plain": [
       "<Figure size 640x480 with 1 Axes>"
      ]
     },
     "metadata": {},
     "output_type": "display_data"
    }
   ],
   "source": [
    "# 2.17 Plotting in Pandas (2/2)\n",
    "\n",
    "# Use the Series defined above to create a plot of each variable over time for\n",
    "# the country of your choice. \n",
    "employment_us.plot()"
   ]
  },
  {
   "cell_type": "code",
   "execution_count": 25,
   "id": "985a8fa9-52c8-4cf1-bbe3-ec7f922d54a6",
   "metadata": {},
   "outputs": [
    {
     "data": {
      "text/plain": [
       "<Axes: >"
      ]
     },
     "execution_count": 25,
     "metadata": {},
     "output_type": "execute_result"
    },
    {
     "data": {
      "image/png": "[encoded data removed]",
      "text/plain": [
       "<Figure size 640x480 with 1 Axes>"
      ]
     },
     "metadata": {},
     "output_type": "display_data"
    }
   ],
   "source": [
    "female_completion_us.plot()\n",
    "male_completion_us.plot()"
   ]
  },
  {
   "cell_type": "code",
   "execution_count": 275,
   "id": "b8b348e6-9536-44dd-b8c7-37871428848f",
   "metadata": {},
   "outputs": [
    {
     "data": {
      "text/plain": [
       "<Axes: >"
      ]
     },
     "execution_count": 275,
     "metadata": {},
     "output_type": "execute_result"
    },
    {
     "data": {
      "image/png": "[encoded data removed]",
      "text/plain": [
       "<Figure size 640x480 with 1 Axes>"
      ]
     },
     "metadata": {},
     "output_type": "display_data"
    }
   ],
   "source": [
    "life_expectancy_us.plot()"
   ]
  },
  {
   "cell_type": "code",
   "execution_count": 273,
   "id": "392014ad-2003-4859-9816-731430539c3d",
   "metadata": {},
   "outputs": [
    {
     "data": {
      "text/plain": [
       "<Axes: >"
      ]
     },
     "execution_count": 273,
     "metadata": {},
     "output_type": "execute_result"
    },
    {
     "data": {
      "image/png": "[encoded data removed]",
      "text/plain": [
       "<Figure size 640x480 with 1 Axes>"
      ]
     },
     "metadata": {},
     "output_type": "display_data"
    }
   ],
   "source": [
    "gdp_us.plot()"
   ]
  },
  {
   "cell_type": "code",
   "execution_count": null,
   "id": "73e90e78-958d-4a87-8761-2ede6eb17766",
   "metadata": {},
   "outputs": [],
   "source": [
    "# 2.00 Conclusion (الاستنتاج/الخلاصة/الخاتمة)\n"
   ]
  }
 ],
 "metadata": {
  "kernelspec": {
   "display_name": "Python [conda env:base] *",
   "language": "python",
   "name": "conda-base-py"
  },
  "language_info": {
   "codemirror_mode": {
    "name": "ipython",
    "version": 3
   },
   "file_extension": ".py",
   "mimetype": "text/x-python",
   "name": "python",
   "nbconvert_exporter": "python",
   "pygments_lexer": "ipython3",
   "version": "3.12.7"
  }
 },
 "nbformat": 4,
 "nbformat_minor": 5
}
