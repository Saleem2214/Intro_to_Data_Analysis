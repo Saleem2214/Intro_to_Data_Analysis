{
 "cells": [
  {
   "cell_type": "code",
   "execution_count": 1,
   "id": "71dc05e5-dcfc-484b-a6da-9d41816f7b2d",
   "metadata": {},
   "outputs": [],
   "source": [
    "# Saleem Saif 00/03/2025\n",
    "# Part 1/3 1_Data_Analysis_Process"
   ]
  },
  {
   "cell_type": "code",
   "execution_count": null,
   "id": "6373039f-974f-4778-8d24-e22130106b73",
   "metadata": {},
   "outputs": [],
   "source": [
    "# Install dependencies\n",
    "# Uncomment and run the following lines of code to install dependencies, if not already installed\n",
    "    # !pip install unicodecsv\n",
    "    # !pip install numpy\n",
    "    # !pip install matplotlib\n",
    "    # !pip install plotly\n",
    "    # !pip install seaborn"
   ]
  },
  {
   "cell_type": "code",
   "execution_count": null,
   "id": "ada64a5e-345f-43ed-9290-0fcea8b0d309",
   "metadata": {},
   "outputs": [],
   "source": [
    "# Load Data from CSVs\n",
    "    # 1. enrollments.csv\n",
    "    # 2. daily_engagement.csv\n",
    "    # 3. project_submissions.csv"
   ]
  },
  {
   "cell_type": "code",
   "execution_count": null,
   "id": "6d47947d-d419-4e24-b3b9-b4a2bfe86f03",
   "metadata": {},
   "outputs": [],
   "source": [
    "# 1.01 Introduction 1 (مقدمة 1)\n",
    "\n",
    "# الفيديو يقدم مقدمة لدورة \"مقدمة في تحليل البيانات\". تشرح المدربة أن محلل البيانات يستخدم البيانات للإجابة على أسئلة متنوعة. سيتعلم الطلاب كيفية تحليل البيانات باستخدام مكتبات مثل NumPy وPandas وMatplotlib، مع التركيز على استخدام بايثون. لا يتطلب الأمر خبرة سابقة في تحليل البيانات، لكن يجب أن يكون الطلاب مرتاحين مع مفاهيم بايثون الأساسية مثل الحلقات والدوال والقوائم."
   ]
  },
  {
   "cell_type": "code",
   "execution_count": 38,
   "id": "827b0e3f-2a39-4d88-94a2-fba511506ee9",
   "metadata": {},
   "outputs": [],
   "source": [
    "import unicodecsv\n",
    "\n",
    "def read_csv(filename):\n",
    "    with open(filename, 'rb') as f:\n",
    "        reader = unicodecsv.DictReader(f)\n",
    "        return list(reader)\n",
    "\n",
    "enrollments = read_csv('enrollments.csv')\n",
    "daily_engagement = read_csv('daily_engagement.csv')\n",
    "project_submissions = read_csv('project_submissions.csv')"
   ]
  },
  {
   "cell_type": "code",
   "execution_count": 40,
   "id": "1290c62a-99c1-423d-aeb6-c7042ef343a2",
   "metadata": {},
   "outputs": [
    {
     "name": "stdout",
     "output_type": "stream",
     "text": [
      "{'account_key': '448', 'status': 'canceled', 'join_date': '10/11/2014', 'cancel_date': '14/01/2015', 'days_to_cancel': '65', 'is_udacity': 'TRUE', 'is_canceled': 'TRUE'} \n",
      "\n",
      "{'acct': '0', 'utc_date': '09/01/2015', 'num_courses_visited': '1', 'total_minutes_visited': '11.6793745', 'lessons_completed': '0', 'projects_completed': '0'} \n",
      "\n",
      "{'creation_date': '2015-01-14', 'completion_date': '2015-01-16', 'assigned_rating': 'UNGRADED', 'account_key': '256', 'lesson_key': '3176718735', 'processing_state': 'EVALUATED'} \n",
      "\n"
     ]
    }
   ],
   "source": [
    "# 1.06 CSVs in Python (1)\n",
    "\n",
    "#####################################\n",
    "#                 1                 #\n",
    "#####################################\n",
    "\n",
    "## Read in the data from daily_engagement.csv and project_submissions.csv \n",
    "## and store the results in the below variables.\n",
    "## Then look at the first row of each table.\n",
    "\n",
    "def csv_as_list(filename):\n",
    "    with open(filename, 'rb') as f:\n",
    "        csvList = list(unicodecsv.DictReader(f))\n",
    "    return csvList\n",
    "    \n",
    "enrollments = csv_as_list('enrollments.csv')\n",
    "print(enrollments[0], \"\\n\")\n",
    "daily_engagement = csv_as_list('daily_engagement.csv')\n",
    "print(daily_engagement[0], \"\\n\")\n",
    "project_submissions = csv_as_list('project_submissions.csv')\n",
    "print(project_submissions[0], \"\\n\")"
   ]
  },
  {
   "cell_type": "code",
   "execution_count": 4,
   "id": "b7b755dc-8ccb-4b93-8fa8-8bf6a50c92a5",
   "metadata": {},
   "outputs": [
    {
     "data": {
      "text/plain": [
       "{'account_key': '448',\n",
       " 'status': 'canceled',\n",
       " 'join_date': datetime.datetime(2014, 11, 10, 0, 0),\n",
       " 'cancel_date': datetime.datetime(2015, 1, 14, 0, 0),\n",
       " 'days_to_cancel': 65,\n",
       " 'is_udacity': False,\n",
       " 'is_canceled': False}"
      ]
     },
     "execution_count": 4,
     "metadata": {},
     "output_type": "execute_result"
    }
   ],
   "source": [
    "# 1.07 Fixing Data Types (1/3) \n",
    "# The second part of Data Wrangling - that is, Data Cleaning - phase begins here.\n",
    "\n",
    "from datetime import datetime as dt\n",
    "\n",
    "# Takes a date as a string, and returns a Python datetime object. \n",
    "# If there is no date given, returns None\n",
    "def parse_date(date):\n",
    "    if date == '':\n",
    "        return None\n",
    "    else:\n",
    "        # انتبه الى صيغة التاريخ يجب ان تكون مرتبة كما في جهازك مع الفواصل %Y-%m-%d او %d/%m/%Y\n",
    "        return dt.strptime(date, '%d/%m/%Y')\n",
    "    \n",
    "# Takes a string which is either an empty string or represents an integer,\n",
    "# and returns an int or None.\n",
    "def parse_maybe_int(i):\n",
    "    if i == '':\n",
    "        return None\n",
    "    else:\n",
    "        return int(i)\n",
    "\n",
    "# Clean up the data types in the enrollments table\n",
    "for enrollment in enrollments:\n",
    "    enrollment['cancel_date'] = parse_date(enrollment['cancel_date'])\n",
    "    enrollment['days_to_cancel'] = parse_maybe_int(enrollment['days_to_cancel'])\n",
    "    enrollment['is_canceled'] = enrollment['is_canceled'] == 'True'\n",
    "    enrollment['is_udacity'] = enrollment['is_udacity'] == 'True'\n",
    "    enrollment['join_date'] = parse_date(enrollment['join_date'])\n",
    "    \n",
    "enrollments[0]"
   ]
  },
  {
   "cell_type": "code",
   "execution_count": 5,
   "id": "bffeca7c-a16d-48bb-a2d1-b454027c9431",
   "metadata": {},
   "outputs": [],
   "source": [
    "# Commenting out the following block as it was purely for debugging\n",
    "# debug_daily_engagement = csv_as_list('daily_engagement.csv')\n",
    "# extra_minutes = []\n",
    "# for record in debug_daily_engagement:\n",
    "#     print(record['total_minutes_visited'], end=', ')\n",
    "#     minutes = float(record['total_minutes_visited'])\n",
    "#     if minutes >= 24 * 60 or str(minutes) != record['total_minutes_visited']:\n",
    "#         extra_minutes.append(minutes)\n",
    "#         print(minutes)\n",
    "# print(extra_minutes)"
   ]
  },
  {
   "cell_type": "code",
   "execution_count": 6,
   "id": "b02dc5b9-d1ce-409e-a8a2-485bece7c0e5",
   "metadata": {},
   "outputs": [
    {
     "data": {
      "text/plain": [
       "{'acct': '0',\n",
       " 'utc_date': datetime.datetime(2015, 1, 9, 0, 0),\n",
       " 'num_courses_visited': 1,\n",
       " 'total_minutes_visited': 11.6793745,\n",
       " 'lessons_completed': 0,\n",
       " 'projects_completed': 0}"
      ]
     },
     "execution_count": 6,
     "metadata": {},
     "output_type": "execute_result"
    }
   ],
   "source": [
    "# 1.07 Fixing Data Types (2/3) \n",
    "\n",
    "# Clean up the data types in the engagement table\n",
    "for engagement_record in daily_engagement:\n",
    "    engagement_record['lessons_completed'] = int(float(engagement_record['lessons_completed']))\n",
    "    engagement_record['num_courses_visited'] = int(float(engagement_record['num_courses_visited']))\n",
    "    engagement_record['projects_completed'] = int(float(engagement_record['projects_completed']))\n",
    "    engagement_record['total_minutes_visited'] = float(engagement_record['total_minutes_visited'])\n",
    "    engagement_record['utc_date'] = parse_date(engagement_record['utc_date'])\n",
    "    \n",
    "daily_engagement[0]"
   ]
  },
  {
   "cell_type": "code",
   "execution_count": 7,
   "id": "2a6397c7-3c4c-48c3-af3d-e776ab827d27",
   "metadata": {},
   "outputs": [
    {
     "ename": "ValueError",
     "evalue": "time data '2015-01-16' does not match format '%d/%m/%Y'",
     "output_type": "error",
     "traceback": [
      "\u001b[1;31m---------------------------------------------------------------------------\u001b[0m",
      "\u001b[1;31mValueError\u001b[0m                                Traceback (most recent call last)",
      "Cell \u001b[1;32mIn[7], line 5\u001b[0m\n\u001b[0;32m      1\u001b[0m \u001b[38;5;66;03m# 1.07 Fixing Data Types (3/3)\u001b[39;00m\n\u001b[0;32m      2\u001b[0m \n\u001b[0;32m      3\u001b[0m \u001b[38;5;66;03m# Clean up the data types in the submissions table\u001b[39;00m\n\u001b[0;32m      4\u001b[0m \u001b[38;5;28;01mfor\u001b[39;00m submission \u001b[38;5;129;01min\u001b[39;00m project_submissions:\n\u001b[1;32m----> 5\u001b[0m     submission[\u001b[38;5;124m'\u001b[39m\u001b[38;5;124mcompletion_date\u001b[39m\u001b[38;5;124m'\u001b[39m] \u001b[38;5;241m=\u001b[39m parse_date(submission[\u001b[38;5;124m'\u001b[39m\u001b[38;5;124mcompletion_date\u001b[39m\u001b[38;5;124m'\u001b[39m])\n\u001b[0;32m      6\u001b[0m     submission[\u001b[38;5;124m'\u001b[39m\u001b[38;5;124mcreation_date\u001b[39m\u001b[38;5;124m'\u001b[39m] \u001b[38;5;241m=\u001b[39m parse_date(submission[\u001b[38;5;124m'\u001b[39m\u001b[38;5;124mcreation_date\u001b[39m\u001b[38;5;124m'\u001b[39m])\n\u001b[0;32m      8\u001b[0m project_submissions[\u001b[38;5;241m0\u001b[39m]\n",
      "Cell \u001b[1;32mIn[4], line 13\u001b[0m, in \u001b[0;36mparse_date\u001b[1;34m(date)\u001b[0m\n\u001b[0;32m     10\u001b[0m     \u001b[38;5;28;01mreturn\u001b[39;00m \u001b[38;5;28;01mNone\u001b[39;00m\n\u001b[0;32m     11\u001b[0m \u001b[38;5;28;01melse\u001b[39;00m:\n\u001b[0;32m     12\u001b[0m     \u001b[38;5;66;03m# انتبه الى صيغة التاريخ يجب ان تكون مرتبة كما في جهازك مع الفواصل %Y-%m-%d او %d/%m/%Y\u001b[39;00m\n\u001b[1;32m---> 13\u001b[0m     \u001b[38;5;28;01mreturn\u001b[39;00m dt\u001b[38;5;241m.\u001b[39mstrptime(date, \u001b[38;5;124m'\u001b[39m\u001b[38;5;132;01m%d\u001b[39;00m\u001b[38;5;124m/\u001b[39m\u001b[38;5;124m%\u001b[39m\u001b[38;5;124mm/\u001b[39m\u001b[38;5;124m%\u001b[39m\u001b[38;5;124mY\u001b[39m\u001b[38;5;124m'\u001b[39m)\n",
      "File \u001b[1;32m~\\anaconda3\\Lib\\_strptime.py:554\u001b[0m, in \u001b[0;36m_strptime_datetime\u001b[1;34m(cls, data_string, format)\u001b[0m\n\u001b[0;32m    551\u001b[0m \u001b[38;5;28;01mdef\u001b[39;00m \u001b[38;5;21m_strptime_datetime\u001b[39m(\u001b[38;5;28mcls\u001b[39m, data_string, \u001b[38;5;28mformat\u001b[39m\u001b[38;5;241m=\u001b[39m\u001b[38;5;124m\"\u001b[39m\u001b[38;5;132;01m%a\u001b[39;00m\u001b[38;5;124m \u001b[39m\u001b[38;5;124m%\u001b[39m\u001b[38;5;124mb \u001b[39m\u001b[38;5;132;01m%d\u001b[39;00m\u001b[38;5;124m \u001b[39m\u001b[38;5;124m%\u001b[39m\u001b[38;5;124mH:\u001b[39m\u001b[38;5;124m%\u001b[39m\u001b[38;5;124mM:\u001b[39m\u001b[38;5;124m%\u001b[39m\u001b[38;5;124mS \u001b[39m\u001b[38;5;124m%\u001b[39m\u001b[38;5;124mY\u001b[39m\u001b[38;5;124m\"\u001b[39m):\n\u001b[0;32m    552\u001b[0m \u001b[38;5;250m    \u001b[39m\u001b[38;5;124;03m\"\"\"Return a class cls instance based on the input string and the\u001b[39;00m\n\u001b[0;32m    553\u001b[0m \u001b[38;5;124;03m    format string.\"\"\"\u001b[39;00m\n\u001b[1;32m--> 554\u001b[0m     tt, fraction, gmtoff_fraction \u001b[38;5;241m=\u001b[39m _strptime(data_string, \u001b[38;5;28mformat\u001b[39m)\n\u001b[0;32m    555\u001b[0m     tzname, gmtoff \u001b[38;5;241m=\u001b[39m tt[\u001b[38;5;241m-\u001b[39m\u001b[38;5;241m2\u001b[39m:]\n\u001b[0;32m    556\u001b[0m     args \u001b[38;5;241m=\u001b[39m tt[:\u001b[38;5;241m6\u001b[39m] \u001b[38;5;241m+\u001b[39m (fraction,)\n",
      "File \u001b[1;32m~\\anaconda3\\Lib\\_strptime.py:333\u001b[0m, in \u001b[0;36m_strptime\u001b[1;34m(data_string, format)\u001b[0m\n\u001b[0;32m    331\u001b[0m found \u001b[38;5;241m=\u001b[39m format_regex\u001b[38;5;241m.\u001b[39mmatch(data_string)\n\u001b[0;32m    332\u001b[0m \u001b[38;5;28;01mif\u001b[39;00m \u001b[38;5;129;01mnot\u001b[39;00m found:\n\u001b[1;32m--> 333\u001b[0m     \u001b[38;5;28;01mraise\u001b[39;00m \u001b[38;5;167;01mValueError\u001b[39;00m(\u001b[38;5;124m\"\u001b[39m\u001b[38;5;124mtime data \u001b[39m\u001b[38;5;132;01m%r\u001b[39;00m\u001b[38;5;124m does not match format \u001b[39m\u001b[38;5;132;01m%r\u001b[39;00m\u001b[38;5;124m\"\u001b[39m \u001b[38;5;241m%\u001b[39m\n\u001b[0;32m    334\u001b[0m                      (data_string, \u001b[38;5;28mformat\u001b[39m))\n\u001b[0;32m    335\u001b[0m \u001b[38;5;28;01mif\u001b[39;00m \u001b[38;5;28mlen\u001b[39m(data_string) \u001b[38;5;241m!=\u001b[39m found\u001b[38;5;241m.\u001b[39mend():\n\u001b[0;32m    336\u001b[0m     \u001b[38;5;28;01mraise\u001b[39;00m \u001b[38;5;167;01mValueError\u001b[39;00m(\u001b[38;5;124m\"\u001b[39m\u001b[38;5;124munconverted data remains: \u001b[39m\u001b[38;5;132;01m%s\u001b[39;00m\u001b[38;5;124m\"\u001b[39m \u001b[38;5;241m%\u001b[39m\n\u001b[0;32m    337\u001b[0m                       data_string[found\u001b[38;5;241m.\u001b[39mend():])\n",
      "\u001b[1;31mValueError\u001b[0m: time data '2015-01-16' does not match format '%d/%m/%Y'"
     ]
    }
   ],
   "source": [
    "# 1.07 Fixing Data Types (3/3)\n",
    "\n",
    "# Clean up the data types in the submissions table\n",
    "for submission in project_submissions:\n",
    "    submission['completion_date'] = parse_date(submission['completion_date'])\n",
    "    submission['creation_date'] = parse_date(submission['creation_date'])\n",
    "\n",
    "project_submissions[0]"
   ]
  },
  {
   "cell_type": "code",
   "execution_count": null,
   "id": "68e4a7fd-b719-40ad-9514-51873d66853b",
   "metadata": {},
   "outputs": [],
   "source": [
    "# 1.08 Questions about Student Data (1/1)\n",
    " \n",
    "# Question Phase:\n",
    "# Think of at least 5 questions, and share them on the Forums.\n",
    "    # I've shaned my questions.\n",
    "    # I've read other students' posts."
   ]
  },
  {
   "cell_type": "code",
   "execution_count": null,
   "id": "e8d03e29-685b-4962-b39a-1edc62e64572",
   "metadata": {},
   "outputs": [],
   "source": [
    "# 1.10 Problems in the Data (1/2)\n",
    "# تم تقديمه بسبب الاولية\n",
    "\n",
    "## Rename the \"acct\" column in the daily_engagement table to \"account_key\".\n",
    "for engagement in daily_engagement:\n",
    "    temp = engagement['acct']\n",
    "    del engagement['acct']\n",
    "    engagement['account_key'] = temp"
   ]
  },
  {
   "cell_type": "code",
   "execution_count": null,
   "id": "535e0730-7462-4cef-9b1d-1939d53c8e08",
   "metadata": {},
   "outputs": [],
   "source": [
    "# 1.09 Investigating the Data (1/2)\n",
    "\n",
    "#####################################\n",
    "#                 2                 #\n",
    "#####################################\n",
    "\n",
    "## Find the total number of rows and the number of unique students (account keys)\n",
    "## in each table.\n",
    "\n",
    "def investigate(csvList):\n",
    "    csvListLen = len(csvList)\n",
    "    unique_elems = len(set([list_item['account_key'] for list_item in csvList]))\n",
    "    return csvListLen, unique_elems\n",
    "\n",
    "enrollment_num_rows, enrollment_num_unique_students = investigate(enrollments)\n",
    "engagement_num_rows, engagement_num_unique_students = investigate(daily_engagement)\n",
    "submission_num_rows, submission_num_unique_students = investigate(project_submissions)\n",
    "\n",
    "print(\"enrollment:\", enrollment_num_unique_students,\"\\n\"\"engagement:\",engagement_num_unique_students,\"\\n\"\"submissions:\", submission_num_unique_students)"
   ]
  },
  {
   "cell_type": "code",
   "execution_count": null,
   "id": "c5bffcff-99ad-4692-8c0b-5b1dfb0a71eb",
   "metadata": {},
   "outputs": [],
   "source": [
    "print(daily_engagement[1000]['account_key'])"
   ]
  },
  {
   "cell_type": "code",
   "execution_count": 3,
   "id": "644ffdd1-f000-4bc9-8b4c-2c240dbe4b66",
   "metadata": {},
   "outputs": [
    {
     "ename": "NameError",
     "evalue": "name 'enrollments' is not defined",
     "output_type": "error",
     "traceback": [
      "\u001b[1;31m---------------------------------------------------------------------------\u001b[0m",
      "\u001b[1;31mNameError\u001b[0m                                 Traceback (most recent call last)",
      "Cell \u001b[1;32mIn[3], line 8\u001b[0m\n\u001b[0;32m      6\u001b[0m         unique_students\u001b[38;5;241m.\u001b[39madd(data_point[\u001b[38;5;124m'\u001b[39m\u001b[38;5;124maccount_key\u001b[39m\u001b[38;5;124m'\u001b[39m])\n\u001b[0;32m      7\u001b[0m     \u001b[38;5;28;01mreturn\u001b[39;00m unique_students\n\u001b[1;32m----> 8\u001b[0m \u001b[38;5;28mlen\u001b[39m(enrollments)\n\u001b[0;32m      9\u001b[0m unique_enrolled_students \u001b[38;5;241m=\u001b[39m get_unique_students(enrollments)\n\u001b[0;32m     10\u001b[0m \u001b[38;5;28mlen\u001b[39m(unique_enrolled_students)\n",
      "\u001b[1;31mNameError\u001b[0m: name 'enrollments' is not defined"
     ]
    }
   ],
   "source": [
    "# 1.10 Problems in the Data\n",
    "\n",
    "def get_unique_students(data):\n",
    "    unique_students = set()\n",
    "    for data_point in data:\n",
    "        unique_students.add(data_point['account_key'])\n",
    "    return unique_students\n",
    "len(enrollments)\n",
    "unique_enrolled_students = get_unique_students(enrollments)\n",
    "len(unique_enrolled_students)\n",
    "len(daily_engagement)\n",
    "unique_engagement_students = get_unique_students(daily_engagement)\n",
    "len(unique_engagement_students)\n",
    "len(project_submissions)\n",
    "unique_project_submitters = get_unique_students(project_submissions)\n",
    "len(unique_project_submitters)"
   ]
  },
  {
   "cell_type": "code",
   "execution_count": null,
   "id": "86cf1d3a-2a7d-4bf2-93f5-30fae671e769",
   "metadata": {},
   "outputs": [],
   "source": [
    "# 1.11 Missing Engagement Records\n",
    "\n",
    "#####################################\n",
    "#                 4                 #\n",
    "#####################################\n",
    "\n",
    "## Find any one student enrollments where the student is missing from the daily engagement table.\n",
    "## Output that enrollment.\n",
    "engagement_keys = list(set([engagement['account_key'] for engagement in daily_engagement]))\n",
    "enrolled_students_without_engagement = [student for student in enrollments if student['account_key'] not in engagement_keys]"
   ]
  },
  {
   "cell_type": "code",
   "execution_count": null,
   "id": "a64bc134-2b3a-4236-948e-e400b79715f5",
   "metadata": {},
   "outputs": [],
   "source": [
    "print(enrolled_students_without_engagement[0])\n",
    "# We see there are students who cancelled the same day they enrolled in, \n",
    "# which is why they appear in the enrollments table, but not in the engagements table."
   ]
  },
  {
   "cell_type": "code",
   "execution_count": null,
   "id": "da83c248-8870-43b9-b085-9f7a3e2b4965",
   "metadata": {},
   "outputs": [],
   "source": [
    "# To see just how many of such students are there, run the following command.\n",
    "print(len(enrolled_students_without_engagement))"
   ]
  },
  {
   "cell_type": "code",
   "execution_count": null,
   "id": "f13e9139-6cad-454a-b852-b31c459edf6e",
   "metadata": {},
   "outputs": [],
   "source": [
    "# 1.12 Checking for More Problem Records\n",
    "\n",
    "#####################################\n",
    "#                 5                 #\n",
    "#####################################\n",
    "\n",
    "## Find the number of surprising data points (enrollments missing from\n",
    "## the engagement table) that remain, if any.\n",
    "students_staying_one_day_min = []\n",
    "for student in enrollments:\n",
    "    if student['account_key'] not in engagement_keys and student['days_to_cancel'] is None:\n",
    "        students_staying_one_day_min.append(student)\n",
    "    elif student['account_key'] not in engagement_keys and student['days_to_cancel'] is not None and student['days_to_cancel'] > 0:\n",
    "        students_staying_one_day_min.append(student)"
   ]
  },
  {
   "cell_type": "code",
   "execution_count": null,
   "id": "dd6deea1-a17f-47bc-a82b-5fc8a9521693",
   "metadata": {},
   "outputs": [],
   "source": [
    "print(len(students_staying_one_day_min))"
   ]
  },
  {
   "cell_type": "code",
   "execution_count": null,
   "id": "0695c0ed-2849-47da-b96d-fe23f440771f",
   "metadata": {},
   "outputs": [],
   "source": [
    "print(students_staying_one_day_min)\n",
    "# These students are all Udacity test accounts \n",
    "# (we can tell since for each of them, is_udacity is True). \n",
    "# There is no guarentee that Udacity test accounts will appear in enrollments."
   ]
  },
  {
   "cell_type": "code",
   "execution_count": null,
   "id": "e20342cf-4661-48d4-905a-d5e794d7b35a",
   "metadata": {},
   "outputs": [],
   "source": [
    "# 1.13 Tracking Down the Remaining Problems (1/3)\n",
    "\n",
    "# Create a set of the account keys for all Udacity test accounts\n",
    "udacity_test_accounts = set()\n",
    "for enrollment in enrollments:\n",
    "    if enrollment['is_udacity']:\n",
    "        udacity_test_accounts.add(enrollment['account_key'])\n",
    "len(udacity_test_accounts)\n",
    "\n",
    "# 6"
   ]
  },
  {
   "cell_type": "code",
   "execution_count": null,
   "id": "06a47756-816e-4de6-bcc8-95a00603cc29",
   "metadata": {},
   "outputs": [],
   "source": [
    "# 1.13 Tracking Down the Remaining Problems (2/3)\n",
    "\n",
    "# Given some data with an account_key field, removes any records corresponding to Udacity test accounts\n",
    "def remove_udacity_accounts(data):\n",
    "    non_udacity_data = []\n",
    "    for data_point in data:\n",
    "        if data_point['account_key'] not in udacity_test_accounts:\n",
    "            non_udacity_data.append(data_point)\n",
    "    return non_udacity_data"
   ]
  },
  {
   "cell_type": "code",
   "execution_count": null,
   "id": "41a64c72-13cf-4d7d-ba2c-7360691ecab9",
   "metadata": {},
   "outputs": [],
   "source": [
    "# 1.13 Tracking Down the Remaining Problems (3/3)\n",
    "\n",
    "# Remove Udacity test accounts from all three tables\n",
    "non_udacity_enrollments = remove_udacity_accounts(enrollments)\n",
    "non_udacity_engagement = remove_udacity_accounts(daily_engagement)\n",
    "non_udacity_submissions = remove_udacity_accounts(project_submissions)\n",
    "\n",
    "print(len(non_udacity_enrollments))\n",
    "print(len(non_udacity_engagement))\n",
    "print(len(non_udacity_submissions))\n",
    "\n",
    "# 1622\n",
    "# 135656\n",
    "# 3634"
   ]
  },
  {
   "cell_type": "code",
   "execution_count": null,
   "id": "f137619f-0940-4d46-a1a7-04761605c514",
   "metadata": {},
   "outputs": [],
   "source": [
    "# 1.14 Refining the Question\n",
    "\n",
    "# Here, we ask the question this data analysis is suppose to answer. \n",
    "# Additionally, we are now entering the Exploration Phase.\n",
    "\n",
    "# Question\n",
    "    # How do the daily engagement attributes of students who pass \n",
    "    # their first project differ from those who don't?\n",
    "\n",
    "# Problems\n",
    "    # 1. [High]: The students are most likely to submit their projects during different intervals of time. A student might submit the first project by the end of the first week and another might submit it by the end of the first month, for example. These varying submission times will have varying engagement trends, and hence it is unfair to compare engagement across different ranges of time of students who submit.\n",
    "    # 2. [High]: If you look at all submission info present in daily_engagement table, it contains engagement even after the submission of the first project. Those trends are of no use for the question posed, and would lead to incorrect analysis.\n",
    "    # 3. [Low]: The total amount of info present in the daily_engagement table is for the entire course, and not just the project submissions. Hence you will be having a lot of data points that you won't be needing in answering the above question.\n",
    "\n",
    "# In order to tackle these problems, we start by eliminating the students who cancelled within the first week."
   ]
  },
  {
   "cell_type": "code",
   "execution_count": null,
   "id": "4613c89d-45e4-4a9e-960e-6d59b7401246",
   "metadata": {},
   "outputs": [],
   "source": [
    "# 1.14 Refining the Question\n",
    "\n",
    "#####################################\n",
    "#                 6                 #\n",
    "#####################################\n",
    "\n",
    "## Create a dictionary named paid_students containing all students who either\n",
    "## haven't canceled yet or who remained enrolled for more than 7 days. The keys\n",
    "## should be account keys, and the values should be the date the student enrolled.\n",
    "\n",
    "paid_students = dict()\n",
    "for student in non_udacity_enrollments:\n",
    "    if student['cancel_date'] is None or student['days_to_cancel'] > 7:\n",
    "        account_key = student['account_key']\n",
    "        join_date = student['join_date']\n",
    "\n",
    "        # add this entry to the dictionary only if it is already not there\n",
    "        # and if it is the most recent enrollment\n",
    "        if account_key not in paid_students or join_date > paid_students[account_key]:\n",
    "            paid_students[account_key] = join_date\n",
    "\n",
    "print(len(paid_students))\n",
    "\n",
    "# 995"
   ]
  },
  {
   "cell_type": "code",
   "execution_count": null,
   "id": "78e3f836-e91b-4a3e-915d-714794767d12",
   "metadata": {},
   "outputs": [],
   "source": [
    "# 1.15 Getting Data from First Week (1/2)\n",
    "\n",
    "# Takes a student's join date and the date of a specific engagement record,\n",
    "# and returns True if that engagement record happened within one week\n",
    "# of the student joining.\n",
    "def within_one_week(join_date, engagement_date):\n",
    "    time_delta = engagement_date - join_date\n",
    "    # buggy condition:\n",
    "    # return time_delta.days < 7\n",
    "    # correct condition:\n",
    "    return time_delta.days < 7 and time_delta.days >= 0"
   ]
  },
  {
   "cell_type": "code",
   "execution_count": null,
   "id": "e9aeac16-9328-4f49-9f49-81eafddccf83",
   "metadata": {},
   "outputs": [],
   "source": [
    "# 1.15 Getting Data from First Week (2/2)\n",
    "\n",
    "#####################################\n",
    "#                 7                 #\n",
    "#####################################\n",
    "\n",
    "## Create a list of rows from the engagement table including only rows where\n",
    "## the student is one of the paid students you just found, and the date is within\n",
    "## one week of the student's join date.\n",
    "\n",
    "paid_engagement_in_first_week = [\n",
    "    engagement for engagement in non_udacity_engagement if engagement['account_key'] in paid_students and within_one_week(paid_students[engagement['account_key']], engagement['utc_date'])\n",
    "]\n",
    "# print(non_udacity_engagement[0])\n",
    "print(paid_engagement_in_first_week[0])\n",
    "print(len(paid_engagement_in_first_week))\n",
    "\n",
    "# 6919"
   ]
  },
  {
   "cell_type": "code",
   "execution_count": null,
   "id": "37a2b664-5760-4be2-bfc2-57f0d10f525b",
   "metadata": {},
   "outputs": [],
   "source": [
    "# Commenting out the following block as it was purely for debugging\n",
    "\n",
    "# for record in paid_engagement_in_first_week:\n",
    "#     minutes = 10080\n",
    "#     visited = float(record['total_minutes_visited'])\n",
    "#     visitNum = 0\n",
    "#     if visited >= minutes:\n",
    "#         visitNum += 1\n",
    "#         print(visited, end=\", \")\n",
    "# print(f'visitnum: {visitNum}')\n",
    "# print(paid_engagement_in_first_week[0])\n",
    "\n",
    "# most = 0\n",
    "# for record in paid_engagement_in_first_week:\n",
    "#     if record['total_minutes_visited'] > most:\n",
    "#         most = record['total_minutes_visited']\n",
    "# print(f'most: {most}')"
   ]
  },
  {
   "cell_type": "code",
   "execution_count": null,
   "id": "261d4bf0-3460-4176-87e9-328fa1aa9c39",
   "metadata": {},
   "outputs": [],
   "source": [
    "# Now, to go along with the official solution, I would like to create the 3 variables I might need later, containing info of paid students.\n",
    "def filter_out_unpaid_students(data):\n",
    "    paid_data = [\n",
    "        data_point for data_point in data if data_point['account_key'] in paid_students\n",
    "    ]\n",
    "    return paid_data\n",
    "\n",
    "paid_enrollments = filter_out_unpaid_students(non_udacity_enrollments)\n",
    "paid_engagement = filter_out_unpaid_students(non_udacity_engagement)\n",
    "paid_submissions = filter_out_unpaid_students(non_udacity_submissions)\n",
    "\n",
    "print(len(paid_enrollments))\n",
    "print(len(paid_engagement))\n",
    "print(len(paid_submissions))\n",
    "\n",
    "# 1293\n",
    "# 134549\n",
    "# 3618"
   ]
  },
  {
   "cell_type": "code",
   "execution_count": null,
   "id": "eb0b3e8a-b3b9-4bbf-858d-95394668766c",
   "metadata": {},
   "outputs": [],
   "source": [
    "# 1.17 Exploring Student Engagement ()\n",
    "\n",
    "from collections import defaultdict\n",
    "\n",
    "# Create a dictionary of engagement grouped by student.\n",
    "# The keys are account keys, and the values are lists of engagement records.\n",
    "engagement_by_account = defaultdict(list)\n",
    "for engagement_record in paid_engagement_in_first_week:\n",
    "    account_key = engagement_record['account_key']\n",
    "    engagement_by_account[account_key].append(engagement_record)"
   ]
  },
  {
   "cell_type": "code",
   "execution_count": null,
   "id": "5186f21c-ff03-44c5-a233-32574ca04574",
   "metadata": {},
   "outputs": [],
   "source": [
    "print(engagement_by_account['0'])"
   ]
  },
  {
   "cell_type": "code",
   "execution_count": null,
   "id": "271a8b7d-b755-4f3b-a296-4167701bcf65",
   "metadata": {},
   "outputs": [],
   "source": [
    "# Commenting out the following block as it was purely for debugging\n",
    "\n",
    "# debug_engagement_by_account = defaultdict(list)\n",
    "# for debug_engagement in paid_engagement_in_first_week:\n",
    "#     account_key = engagement_record['account_key']\n",
    "#     if debug_engagement not in debug_engagement_by_account['account_key']:\n",
    "#         debug_engagement_by_account[account_key].append(debug_engagement)"
   ]
  },
  {
   "cell_type": "code",
   "execution_count": null,
   "id": "a3e0fdbf-13c6-4cd7-9390-a78f4a47ad45",
   "metadata": {},
   "outputs": [],
   "source": [
    "# print(len(debug_engagement_by_account))\n",
    "# print(len(engagement_by_account))"
   ]
  },
  {
   "cell_type": "code",
   "execution_count": null,
   "id": "96c9b2d1-82b6-466b-b5e7-1dd6bedc5838",
   "metadata": {},
   "outputs": [],
   "source": [
    "# 1.17 Exploring Student Engagement ()\n",
    "\n",
    "# Create a dictionary with the total minutes each student spent in the classroom during the first week.\n",
    "# The keys are account keys, and the values are numbers (total minutes)\n",
    "total_minutes_by_account = {}\n",
    "for account_key, engagement_for_student in engagement_by_account.items():\n",
    "    total_minutes = 0\n",
    "    for engagement_record in engagement_for_student:\n",
    "        total_minutes += engagement_record['total_minutes_visited']\n",
    "    total_minutes_by_account[account_key] = total_minutes"
   ]
  },
  {
   "cell_type": "code",
   "execution_count": null,
   "id": "96d492fb-1d1f-4b49-b563-be180d12f56b",
   "metadata": {},
   "outputs": [],
   "source": [
    "# 1.17 Exploring Student Engagement ()\n",
    "\n",
    "import numpy as np\n",
    "\n",
    "# Summarize the data about minutes spent in the classroom\n",
    "total_minutes = list(total_minutes_by_account.values())\n",
    "print ('Mean:', np.mean(total_minutes))\n",
    "print ('Standard deviation:', np.std(total_minutes))\n",
    "print ('Minimum:', np.min(total_minutes))\n",
    "print ('Maximum:', np.max(total_minutes))\n",
    "\n",
    "# Mean: 306.70832675342825\n",
    "# Standard deviation: 412.99693340852957\n",
    "# Minimum: 0.0\n",
    "# Maximum: 3564.7332644989997"
   ]
  },
  {
   "cell_type": "code",
   "execution_count": null,
   "id": "e7d70cad-5634-4573-aeaa-cc235ac345a2",
   "metadata": {},
   "outputs": [],
   "source": [
    "# Issue\n",
    "    # Here we saw that the maximum minutes in a week spent by a student \n",
    "    # is 10568, but each week only contains 10,080 minutes. \n",
    "    # So our calculation is impossible, and we will have to investigate \n",
    "    # the why it is so. The following cell, and many cells above, \n",
    "    # contain debugging related to finding out the bug, and they are \n",
    "    # all commented out as they don't add to the code."
   ]
  },
  {
   "cell_type": "code",
   "execution_count": null,
   "id": "3b69fc28-c35f-492d-a0ad-6efa208bd545",
   "metadata": {},
   "outputs": [],
   "source": [
    "# Commenting out the following block as it was purely for debugging\n",
    "\n",
    "# most = 0\n",
    "# for minutes in list(total_minutes_by_account.values()):\n",
    "#     if minutes > most:\n",
    "#         most = minutes\n",
    "# print(most)\n",
    "\n",
    "# most = 10080\n",
    "# extra = []\n",
    "# for minutes in list(total_minutes_by_account.values()):\n",
    "#     if minutes > most:\n",
    "#         extra.append(minutes)\n",
    "# print(extra)\n",
    "# print(len(extra))"
   ]
  },
  {
   "cell_type": "code",
   "execution_count": null,
   "id": "d25261b2-fb9a-42cb-a01b-994402aa599b",
   "metadata": {},
   "outputs": [],
   "source": [
    "# 1.18 Debugging Data Analysis Code\n",
    "\n",
    "#####################################\n",
    "#                 8                 #\n",
    "#####################################\n",
    "\n",
    "## Go through a similar process as before to see if there is a problem.\n",
    "## Locate at least one surprising piece of data, output it, and take a look at it.\n",
    "\n",
    "# Commenting out the following block as it was purely for debugging\n",
    "\n",
    "# student_with_max_minutes = None\n",
    "# max_minutes = 0\n",
    "\n",
    "# for student, total_minutes in total_minutes_by_account.items():\n",
    "#     if total_minutes > max_minutes:\n",
    "#         max_minutes = total_minutes\n",
    "#         student_with_max_minutes = student\n",
    "# print(max_minutes)\n",
    "# print(student_with_max_minutes)max_minutes = 0\n",
    "\n",
    "# for student, total_minutes in total_minutes_by_account.items():\n",
    "#     if total_minutes > max_minutes:\n",
    "#         max_minutes = total_minutes\n",
    "#         student_with_max_minutes = student\n",
    "# print(max_minutes)\n",
    "# print(student_with_max_minutes)"
   ]
  },
  {
   "cell_type": "code",
   "execution_count": null,
   "id": "d19b8a7f-56bb-41b7-800b-3819bb2700bc",
   "metadata": {},
   "outputs": [],
   "source": [
    "# Commenting out the following block as it was purely for debugging\n",
    "#  for record in paid_engagement_in_first_week:\n",
    "#     if record['account_key'] == student_with_max_minutes:\n",
    "#         print(record)"
   ]
  },
  {
   "cell_type": "code",
   "execution_count": null,
   "id": "56b3ee44-d4b0-4e32-b6b7-7b14ad3ebe76",
   "metadata": {},
   "outputs": [],
   "source": [
    "# Observation\n",
    "    # Here we see that the entries are much more than 7, which means when we sliced the data upto the first seven days, we ended up slicing more than that. Which means the within_one_week method is incorrect. Looking back at it, we are merely checking if the number of days < 7, but we are not checking if they are greater than 0. So any number less than 7 has its record added to the entry. We need to fix this by adding the needed condition.\n",
    "    # So the needed condition was added and the cells from that till the np calculations were rerun, after which more possible values showed up!"
   ]
  },
  {
   "cell_type": "code",
   "execution_count": null,
   "id": "a40c9db1-c90b-47b9-a3cb-f540d2b1cdb8",
   "metadata": {},
   "outputs": [],
   "source": [
    "# 1.19 Lessons Completed in First Week ()\n",
    "\n",
    "#####################################\n",
    "#                 9                 #\n",
    "#####################################\n",
    "\n",
    "## Adapt the code above to find the mean, standard deviation, minimum, and maximum for\n",
    "## the number of lessons completed by each student during the first week. Try creating\n",
    "## one or more functions to re-use the code above.\n",
    "# key name: lessons_completed\n",
    "\n",
    "def arrange_by_account(key):\n",
    "    total_key_by_account = {}\n",
    "    for account_key, engagement_for_student in engagement_by_account.items():\n",
    "        total_key = 0\n",
    "        for engagement_record in engagement_for_student:\n",
    "            total_key += engagement_record[key]\n",
    "        total_key_by_account[account_key] = total_key\n",
    "    return total_key_by_account\n",
    "\n",
    "def output_stats_of_total(total_stat):\n",
    "    total_lessons = list(total_stat.values())\n",
    "    print(f'Mean: {np.mean(total_lessons)}')\n",
    "    print(f'Std dev: {np.std(total_lessons)}')\n",
    "    print(f'Min: {np.min(total_lessons)}')\n",
    "    print(f'Max: {np.max(total_lessons)}')\n",
    "\n",
    "total_lessons_by_acccount = arrange_by_account('lessons_completed')\n",
    "output_stats_of_total(total_lessons_by_acccount)\n",
    "\n",
    "# Mean: 1.636180904522613\n",
    "# Std dev: 3.002561299829423\n",
    "# Min: 0\n",
    "# Max: 36"
   ]
  },
  {
   "cell_type": "code",
   "execution_count": null,
   "id": "2d8bbfdc-ce3c-47d4-b154-69409aad670e",
   "metadata": {},
   "outputs": [],
   "source": [
    "# 1.20 Number of Visits in First Week ()\n",
    "\n",
    "######################################\n",
    "#                 10                 #\n",
    "######################################\n",
    "\n",
    "## Find the mean, standard deviation, minimum, and maximum for the number of\n",
    "## days each student visits the classroom during the first week.\n",
    "# print('before:')\n",
    "# print(engagement_by_account['0'])\n",
    "\n",
    "for key, row in engagement_by_account.items():\n",
    "    for record in row:\n",
    "        if record['num_courses_visited'] > 0:\n",
    "            record['has_visited'] = 1\n",
    "        else:\n",
    "            record['has_visited'] = 0\n",
    "    engagement_by_account[key] = row\n",
    "\n",
    "# print('after:')\n",
    "# print(engagement_by_account['0'])\n",
    "total_courses_visited = arrange_by_account('has_visited')\n",
    "output_stats_of_total(total_courses_visited)\n",
    "\n",
    "# Mean: 2.8673366834170855\n",
    "# Std dev: 2.2551980029196814\n",
    "# Min: 0\n",
    "# Max: 7"
   ]
  },
  {
   "cell_type": "code",
   "execution_count": null,
   "id": "29b0e196-fa4e-4b70-b7ad-e60b009cc588",
   "metadata": {},
   "outputs": [],
   "source": [
    "# 1.21 Splitting out Passing Students ()\n",
    "\n",
    "######################################\n",
    "#                 11                 #\n",
    "######################################\n",
    "\n",
    "## Create two lists of engagement data for paid students in the first week.\n",
    "## The first list should contain data for students who eventually pass the\n",
    "## subway project, and the second list should contain data for students\n",
    "## who do not.\n",
    "\n",
    "subway_project_lesson_keys = ['746169184', '3176718735']\n",
    "passing_grades = ['PASSED', 'DISTINCTION']\n",
    "\n",
    "passing_submissions_by_account = set()\n",
    "non_passing_submissions_by_account = set()\n",
    "for submission in paid_submissions:\n",
    "    key = submission['account_key']\n",
    "    if submission['lesson_key'] in subway_project_lesson_keys:\n",
    "        if submission['assigned_rating'] in passing_grades:\n",
    "            passing_submissions_by_account.add(key)\n",
    "        else:\n",
    "            non_passing_submissions_by_account.add(key)\n",
    "\n",
    "\n",
    "passing_engagement = []\n",
    "non_passing_engagement = []\n",
    "\n",
    "for record in paid_engagement_in_first_week:\n",
    "    if record['account_key'] in passing_submissions_by_account:\n",
    "        passing_engagement.append(record)\n",
    "    else:\n",
    "        non_passing_engagement.append(record)\n",
    "\n",
    "print(len(passing_engagement))\n",
    "print(len(non_passing_engagement))\n",
    "\n",
    "# 4527\n",
    "# 2392"
   ]
  },
  {
   "cell_type": "code",
   "execution_count": null,
   "id": "3700e18e-ca0d-42a7-bf02-5fe4a0c5f28b",
   "metadata": {},
   "outputs": [],
   "source": [
    "# 1.22 Comparing the Two Student Groups (1/2)\n",
    "\n",
    "######################################\n",
    "#                 12                 #\n",
    "######################################\n",
    "\n",
    "## Compute some metrics you're interested in and see how they differ for\n",
    "## students who pass the subway project vs. students who don't. A good\n",
    "## starting point would be the metrics we looked at earlier (minutes spent\n",
    "## in the classroom, lessons completed, and days visited).\n",
    "# print(passing_engagement[0])\n",
    "# print(non_passing_engagement[0])\n",
    "\n",
    "def group_by_key(arr, key):\n",
    "    group = defaultdict(list)\n",
    "    for item in arr:\n",
    "        key = item['account_key']\n",
    "        group[key].append(item)\n",
    "    return group\n",
    "\n",
    "def total_groups_by_key(group, key):\n",
    "    total_key_by_account = {}\n",
    "    for account_key, engagement_for_student in group.items():\n",
    "        total_key = 0\n",
    "        for engagement_record in engagement_for_student:\n",
    "            total_key += engagement_record[key]\n",
    "        total_key_by_account[account_key] = total_key\n",
    "    return total_key_by_account\n",
    "\n",
    "passing_by_account = group_by_key(passing_engagement, 'account_key')\n",
    "non_passing_by_account = group_by_key(non_passing_engagement, 'account_key')\n",
    "passing_by_lessons = total_groups_by_key(passing_by_account, 'lessons_completed')\n",
    "non_passing_by_lesson = total_groups_by_key(non_passing_by_account, 'lessons_completed')\n",
    "print('Stats of lessons completed for passing by acocunt:')\n",
    "output_stats_of_total(passing_by_lessons)\n",
    "print('Stats of lessons completed for non=passing by account:')\n",
    "output_stats_of_total(non_passing_by_lesson)\n",
    "\n",
    "print()\n",
    "\n",
    "lessons_completed_passing = [record['lessons_completed'] for record in passing_engagement]\n",
    "lessons_completed_non_passing = [record['lessons_completed'] for record in non_passing_engagement]\n",
    "total_passed_lessons = sum(lessons_completed_passing)\n",
    "total_non_passed_lessons = sum(lessons_completed_non_passing)\n",
    "print(f'total lessons completed by passing students: {total_passed_lessons}')\n",
    "print(f'total lessons completed by non-passing students: {total_non_passed_lessons}')\n",
    "print(f'Difference: {total_passed_lessons - total_non_passed_lessons}')\n",
    "\n",
    "\n",
    "# Stats for passing by acocunt:\n",
    "# Mean: 2.052550231839258\n",
    "# Std dev: 3.1422270555779344\n",
    "# Min: 0\n",
    "# Max: 36\n",
    "# Stats for non=passing by account:\n",
    "# Mean: 0.8620689655172413\n",
    "# Std dev: 2.5491599418312028\n",
    "# Min: 0\n",
    "# Max: 27\n",
    "\n",
    "# total lessons completed by passing students: 1328\n",
    "# total lessons completed by non-passing students: 300\n",
    "# Difference: 1028"
   ]
  },
  {
   "cell_type": "code",
   "execution_count": null,
   "id": "0e2f21f6-07ed-492c-b268-b5dd65195a35",
   "metadata": {},
   "outputs": [],
   "source": [
    "# 1.22 Comparing the Two Student Groups (2/2)\n",
    "\n",
    "# And now, some other data\n",
    "passing_by_minutes = total_groups_by_key(passing_by_account, 'total_minutes_visited')\n",
    "non_passing_by_minutes = total_groups_by_key(non_passing_by_account, 'total_minutes_visited')\n",
    "\n",
    "passing_by_visit = total_groups_by_key(passing_by_account, 'has_visited')\n",
    "non_passing_by_visit = total_groups_by_key(non_passing_by_account, 'has_visited')\n",
    "# print('Stats of minutes visited for passing by account:')\n",
    "# output_stats_of_total(passing_by_minutes)\n",
    "# print('Stats of minutes visited for non=passing by account:')\n",
    "# output_stats_of_total(non_passing_by_minutes)\n",
    "# print(passing_engagement[0])"
   ]
  },
  {
   "cell_type": "code",
   "execution_count": null,
   "id": "5ff84101-a8ca-48e6-81af-85715395a79d",
   "metadata": {},
   "outputs": [],
   "source": [
    "# 1.23 Making Histograms\n",
    "\n",
    "######################################\n",
    "#                 13                 #\n",
    "######################################\n",
    "\n",
    "## Make histograms of the three metrics we looked at earlier for both\n",
    "## students who passed the subway project and students who didn't. You\n",
    "## might also want to make histograms of any other metrics you examined.\n",
    "\n",
    "%matplotlib inline\n",
    "import matplotlib.pyplot as plt\n",
    "print(plt.hist(passing_by_lessons.values()))\n",
    "plt.show()"
   ]
  },
  {
   "cell_type": "code",
   "execution_count": null,
   "id": "922a2df4-a44a-40e6-aed6-55e79380ee1e",
   "metadata": {},
   "outputs": [],
   "source": [
    "print(plt.hist(non_passing_by_lesson.values()))\n",
    "plt.show()"
   ]
  },
  {
   "cell_type": "code",
   "execution_count": null,
   "id": "5f9daec2-5169-4f20-8bdf-5ae5e392076c",
   "metadata": {},
   "outputs": [],
   "source": [
    "print(plt.hist(passing_by_minutes.values()))\n",
    "plt.show()"
   ]
  },
  {
   "cell_type": "code",
   "execution_count": null,
   "id": "709bdbb0-177f-46ba-82c5-81c1abc14f28",
   "metadata": {},
   "outputs": [],
   "source": [
    "print(plt.hist(non_passing_by_minutes.values()))\n",
    "plt.show()"
   ]
  },
  {
   "cell_type": "code",
   "execution_count": null,
   "id": "48ba5b04-47a0-4691-a619-29b206b25de7",
   "metadata": {},
   "outputs": [],
   "source": [
    "print(plt.hist(passing_by_visit.values()))\n",
    "plt.show()"
   ]
  },
  {
   "cell_type": "code",
   "execution_count": null,
   "id": "4eb33c53-14aa-4f4f-96c2-35127df02a04",
   "metadata": {},
   "outputs": [],
   "source": [
    "print(plt.hist(non_passing_by_visit.values()))\n",
    "plt.show()"
   ]
  },
  {
   "cell_type": "code",
   "execution_count": 36,
   "id": "80e88853-62b7-4944-a7b3-5c06a3424c64",
   "metadata": {},
   "outputs": [
    {
     "ename": "NameError",
     "evalue": "name 'passing_by_visit' is not defined",
     "output_type": "error",
     "traceback": [
      "\u001b[1;31m---------------------------------------------------------------------------\u001b[0m",
      "\u001b[1;31mNameError\u001b[0m                                 Traceback (most recent call last)",
      "Cell \u001b[1;32mIn[36], line 15\u001b[0m\n\u001b[0;32m     12\u001b[0m plt\u001b[38;5;241m.\u001b[39mtitle(\u001b[38;5;124m'\u001b[39m\u001b[38;5;124mClasses visited by students who passed (red) vs who did not pass (green)\u001b[39m\u001b[38;5;124m'\u001b[39m)\n\u001b[0;32m     13\u001b[0m BINS \u001b[38;5;241m=\u001b[39m \u001b[38;5;241m20\u001b[39m\n\u001b[1;32m---> 15\u001b[0m plt\u001b[38;5;241m.\u001b[39mhist(passing_by_visit\u001b[38;5;241m.\u001b[39mvalues(), bins\u001b[38;5;241m=\u001b[39mBINS, color\u001b[38;5;241m=\u001b[39m\u001b[38;5;124m'\u001b[39m\u001b[38;5;124mred\u001b[39m\u001b[38;5;124m'\u001b[39m)\n\u001b[0;32m     16\u001b[0m plt\u001b[38;5;241m.\u001b[39mhist(non_passing_by_visit\u001b[38;5;241m.\u001b[39mvalues(), bins\u001b[38;5;241m=\u001b[39mBINS, color\u001b[38;5;241m=\u001b[39m\u001b[38;5;124m'\u001b[39m\u001b[38;5;124mgreen\u001b[39m\u001b[38;5;124m'\u001b[39m)\n\u001b[0;32m     17\u001b[0m \u001b[38;5;28mprint\u001b[39m(plt\u001b[38;5;241m.\u001b[39mxlabel(\u001b[38;5;124m'\u001b[39m\u001b[38;5;124mNumber of days\u001b[39m\u001b[38;5;124m'\u001b[39m))\n",
      "\u001b[1;31mNameError\u001b[0m: name 'passing_by_visit' is not defined"
     ]
    }
   ],
   "source": [
    "# 1.00 Improving Plots and Sharing Findings ()\n",
    "\n",
    "######################################\n",
    "#                 14                 #\n",
    "######################################\n",
    "\n",
    "## Make a more polished version of at least one of your visualizations\n",
    "## from earlier. Try importing the seaborn library to make the visualization\n",
    "## look better, adding axis labels and a title, and changing one or more\n",
    "## arguments to the hist() function.\n",
    "\n",
    "plt.title('Classes visited by students who passed (red) vs who did not pass (green)')\n",
    "BINS = 20\n",
    "\n",
    "plt.hist(passing_by_visit.values(), bins=BINS, color='red')\n",
    "plt.hist(non_passing_by_visit.values(), bins=BINS, color='green')\n",
    "print(plt.xlabel('Number of days'))\n",
    "print(plt.ylabel('Number of visits'))\n",
    "\n",
    "plt.show()"
   ]
  },
  {
   "cell_type": "code",
   "execution_count": null,
   "id": "a2453fd4-b9a1-4ca8-a451-67cf88a2250e",
   "metadata": {},
   "outputs": [],
   "source": [
    "# 1.00 Conclusion (الاستنتاج/الخلاصة/الخاتمة)\n"
   ]
  },
  {
   "cell_type": "code",
   "execution_count": null,
   "id": "d7508e07-59f0-4ffb-bd66-e8777a913ea0",
   "metadata": {},
   "outputs": [],
   "source": []
  },
  {
   "cell_type": "code",
   "execution_count": null,
   "id": "451d9cb6-5367-4c41-b3e5-567f2b727505",
   "metadata": {},
   "outputs": [],
   "source": []
  }
 ],
 "metadata": {
  "kernelspec": {
   "display_name": "Python [conda env:base] *",
   "language": "python",
   "name": "conda-base-py"
  },
  "language_info": {
   "codemirror_mode": {
    "name": "ipython",
    "version": 3
   },
   "file_extension": ".py",
   "mimetype": "text/x-python",
   "name": "python",
   "nbconvert_exporter": "python",
   "pygments_lexer": "ipython3",
   "version": "3.12.7"
  }
 },
 "nbformat": 4,
 "nbformat_minor": 5
}
